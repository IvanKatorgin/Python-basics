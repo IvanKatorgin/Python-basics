{
  "nbformat": 4,
  "nbformat_minor": 0,
  "metadata": {
    "colab": {
      "provenance": [],
      "include_colab_link": true
    },
    "kernelspec": {
      "name": "python3",
      "display_name": "Python 3"
    },
    "language_info": {
      "name": "python"
    }
  },
  "cells": [
    {
      "cell_type": "markdown",
      "metadata": {
        "id": "view-in-github",
        "colab_type": "text"
      },
      "source": [
        "<a href=\"https://colab.research.google.com/github/IvanKatorgin/Python-basics/blob/main/%D0%9E%D1%81%D0%BD%D0%BE%D0%B2%D1%8B_Python_%D0%B4%D0%BE%D0%BC%D0%B0%D1%88%D0%BD%D0%B5%D0%B5_%D0%B7%D0%B0%D0%B4%D0%B0%D0%BD%D0%B8%D0%B5_6.ipynb\" target=\"_parent\"><img src=\"https://colab.research.google.com/assets/colab-badge.svg\" alt=\"Open In Colab\"/></a>"
      ]
    },
    {
      "cell_type": "markdown",
      "source": [
        "Курс \"Основы Python\". Домашнее задание 6. Исключение и обработка ошибок. Каторгин И.П."
      ],
      "metadata": {
        "id": "d6atsgLweIgs"
      }
    },
    {
      "cell_type": "markdown",
      "source": [
        "Задание 1"
      ],
      "metadata": {
        "id": "7-71CAq4eSLK"
      }
    },
    {
      "cell_type": "code",
      "execution_count": null,
      "metadata": {
        "colab": {
          "base_uri": "https://localhost:8080/"
        },
        "id": "_eTJXVw5dL4L",
        "outputId": "b312a1a3-7626-44ee-df04-d1bbf4e9cf0f"
      },
      "outputs": [
        {
          "output_type": "stream",
          "name": "stdout",
          "text": [
            "2002-10-02 00:00:00\n",
            "2013-10-11 00:00:00\n",
            "1977-08-18 00:00:00 \n",
            "\n",
            "конец задания 1\n"
          ]
        }
      ],
      "source": [
        "# The Moscow Times — Wednesday, October 2, 2002\n",
        "# The Guardian — Friday, 11.10.13\n",
        "# Daily News — Thursday, 18 August 1977\n",
        "\n",
        "from datetime import datetime\n",
        "\n",
        "date_1 = 'Wednesday, October 2, 2002'\n",
        "date_2 = 'Friday, 11.10.13'\n",
        "date_3 = 'Thursday, 18 August 1977'\n",
        "\n",
        "dt_1 = datetime.strptime(date_1, '%A, %B %d, %Y')\n",
        "dt_2 = datetime.strptime(date_2, '%A, %d.%m.%y')\n",
        "dt_3 = datetime.strptime(date_3, '%A, %d %B %Y')\n",
        "\n",
        "print(dt_1)\n",
        "print(dt_2)\n",
        "print(dt_3, '\\n')\n",
        "\n",
        "print('конец задания 1')"
      ]
    },
    {
      "cell_type": "markdown",
      "source": [
        "Задание 2"
      ],
      "metadata": {
        "id": "L3-9pwN2zRrY"
      }
    },
    {
      "cell_type": "code",
      "source": [
        "stream = ['2018-04-02', '2018-02-29', '2018-19-02']\n",
        "\n",
        "from datetime import datetime\n",
        "\n",
        "for el in stream:\n",
        "  try:\n",
        "    datetime.strptime(el, '%Y-%m-%d')\n",
        "    print(el, 'Дата корректна')\n",
        "  except ValueError:\n",
        "    print(el, 'Дата некорректна')\n",
        "\n",
        "print('конец задания 2')"
      ],
      "metadata": {
        "colab": {
          "base_uri": "https://localhost:8080/"
        },
        "id": "iPs-4SmdzTm3",
        "outputId": "1d7018b2-995d-4640-99da-6a4940bb134d"
      },
      "execution_count": null,
      "outputs": [
        {
          "output_type": "stream",
          "name": "stdout",
          "text": [
            "2018-04-02 Дата корректна\n",
            "2018-02-29 Дата некорректна\n",
            "2018-19-02 Дата некорректна\n",
            "конец задания 2\n"
          ]
        }
      ]
    },
    {
      "cell_type": "markdown",
      "source": [
        "Задание 3"
      ],
      "metadata": {
        "id": "axrOX4cb9rhl"
      }
    },
    {
      "cell_type": "code",
      "source": [
        "from datetime import datetime\n",
        "from datetime import timedelta\n",
        "\n",
        "def date_range():\n",
        "  try:\n",
        "    print('Введите дату начала (в формате YYYY-MM-DD):')\n",
        "    start_date = datetime.strptime(input(), '%Y-%m-%d')\n",
        "    print('Введите дату конца (в формате YYYY-MM-DD):')\n",
        "    end_date = datetime.strptime(input(), '%Y-%m-%d')\n",
        "    print('\\n')\n",
        "    if start_date <= end_date:\n",
        "      current_date = start_date\n",
        "      while current_date <= end_date:\n",
        "        print(current_date.strftime('%Y-%m-%d'))\n",
        "        current_date += timedelta(days=1)\n",
        "      return\n",
        "    else:\n",
        "      print([])\n",
        "      return\n",
        "  except ValueError:\n",
        "    print([])\n",
        "    return\n",
        "\n",
        "date_range()\n",
        "\n",
        "print('конец задания 3')"
      ],
      "metadata": {
        "colab": {
          "base_uri": "https://localhost:8080/"
        },
        "id": "qMVnxwwFaL80",
        "outputId": "4deb3247-0dd9-4985-eb7b-38a52e82d5ab"
      },
      "execution_count": null,
      "outputs": [
        {
          "output_type": "stream",
          "name": "stdout",
          "text": [
            "Введите дату начала (в формате YYYY-MM-DD):\n",
            "2022-01-01\n",
            "Введите дату конца (в формате YYYY-MM-DD):\n",
            "2022-01-10\n",
            "\n",
            "\n",
            "2022-01-01\n",
            "2022-01-02\n",
            "2022-01-03\n",
            "2022-01-04\n",
            "2022-01-05\n",
            "2022-01-06\n",
            "2022-01-07\n",
            "2022-01-08\n",
            "2022-01-09\n",
            "2022-01-10\n",
            "конец задания 3\n"
          ]
        }
      ]
    },
    {
      "cell_type": "markdown",
      "source": [
        "Задание 4"
      ],
      "metadata": {
        "id": "5fIWBCAwxwWC"
      }
    },
    {
      "cell_type": "code",
      "source": [
        "DEFAULT_USER_COUNT = 3\n",
        "\n",
        "def delete_and_return_last_user(region, default_list=['A100', 'A101', 'A102']):\n",
        "  \"\"\"\n",
        "  Удаляет из списка default_list последнего пользователя и возвращает ID нового последнего пользователя.\n",
        "  \"\"\"\n",
        "  element_to_delete = default_list[-1]\n",
        "  default_list.remove(element_to_delete)\n",
        "  return default_list[DEFAULT_USER_COUNT-2]\n"
      ],
      "metadata": {
        "id": "EEvF5Zu_y_St"
      },
      "execution_count": null,
      "outputs": []
    },
    {
      "cell_type": "markdown",
      "source": [
        "При однократном вызове этой функции всё работает корректно:\n",
        "delete_and_return_last_user(1)\n",
        "‘A101’\n",
        "Однако при повторном вызове получается ошибка IndexError: list index out of range.\n",
        "\n",
        "Вопросы по заданию:\n",
        "1. Что значит ошибка list index out of range?\n",
        "\n",
        "Ответ:\n",
        "\n",
        "Попытка обратиться к элементу списка/массива с несуществующим индексом. В данном случае значение отрицательного индекса превышает длину списка мы в итоге получаем эту ошибку при повторном обращении.\n",
        "\n",
        "2. Почему при первом запуске функция работает корректно, а при втором — нет?\n",
        "\n",
        "Ответ:\n",
        "\n",
        "Возникает либо в циклах, либо при повторном обращении и, соответственно при повторном изменении длины списка, в момент итерирования по нему. Попытка удаления элементов списка при итерировании по нему. Либо если список пустой"
      ],
      "metadata": {
        "id": "5jL5oH26zX-p"
      }
    }
  ]
}