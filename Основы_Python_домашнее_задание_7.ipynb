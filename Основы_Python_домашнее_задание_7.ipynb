{
  "nbformat": 4,
  "nbformat_minor": 0,
  "metadata": {
    "colab": {
      "provenance": [],
      "include_colab_link": true
    },
    "kernelspec": {
      "name": "python3",
      "display_name": "Python 3"
    },
    "language_info": {
      "name": "python"
    }
  },
  "cells": [
    {
      "cell_type": "markdown",
      "metadata": {
        "id": "view-in-github",
        "colab_type": "text"
      },
      "source": [
        "<a href=\"https://colab.research.google.com/github/IvanKatorgin/Python-basics/blob/main/%D0%9E%D1%81%D0%BD%D0%BE%D0%B2%D1%8B_Python_%D0%B4%D0%BE%D0%BC%D0%B0%D1%88%D0%BD%D0%B5%D0%B5_%D0%B7%D0%B0%D0%B4%D0%B0%D0%BD%D0%B8%D0%B5_7.ipynb\" target=\"_parent\"><img src=\"https://colab.research.google.com/assets/colab-badge.svg\" alt=\"Open In Colab\"/></a>"
      ]
    },
    {
      "cell_type": "markdown",
      "source": [
        "Курс \"Основы Python\". Домашнее задание 7. Понятие класса. Каторгин И.П."
      ],
      "metadata": {
        "id": "6hYIJLtRd_Ao"
      }
    },
    {
      "cell_type": "markdown",
      "source": [
        "Задание 1"
      ],
      "metadata": {
        "id": "r2ToOgZ_eFK7"
      }
    },
    {
      "cell_type": "code",
      "source": [
        "from operator import itemgetter\n",
        "import requests\n",
        "import json\n",
        "\n",
        "API_URL = 'https://www.cbr-xml-daily.ru/daily_json.js'\n",
        "\n",
        "class Rate:\n",
        "  def __init__(self, format = 'value'):\n",
        "    self.format = format\n",
        "\n",
        "  def exchange_rates(self):\n",
        "    \"\"\"\n",
        "    Возвращает ответ сервиса с информацией о валютах в виде:\n",
        "    {\n",
        "      \"AUD\": {\n",
        "        \"ID\": \"R01010\",\n",
        "        \"NumCode\": \"036\",\n",
        "        \"CharCode\": \"AUD\",\n",
        "        \"Nominal\": 1,\n",
        "        \"Name\": \"Австралийский доллар\",\n",
        "        \"Value\": 59.9983,\n",
        "        \"Previous\": 59.7741\n",
        "        },\n",
        "      ...\n",
        "    }\n",
        "    \"\"\"\n",
        "    self.r = requests.get(API_URL)\n",
        "    return self.r.json()['Valute']\n",
        "\n",
        "  def max_rate(self):\n",
        "    \"\"\"\n",
        "    Возвращает имя и значение самой дорогой валюты на момент запроса\n",
        "    \"\"\"\n",
        "    getter = itemgetter('Name', 'Value')\n",
        "    rates = [getter(info) for info in self.exchange_rates().values()]\n",
        "    return max(rates, key=itemgetter(1))\n",
        "\n",
        "r = Rate()\n",
        "r.max_rate()"
      ],
      "metadata": {
        "colab": {
          "base_uri": "https://localhost:8080/"
        },
        "id": "SgSWzpdTCacu",
        "outputId": "883e2857-4ea4-4c62-95aa-5ee287b28d9d"
      },
      "execution_count": null,
      "outputs": [
        {
          "output_type": "execute_result",
          "data": {
            "text/plain": [
              "('СДР (специальные права заимствования)', 122.6311)"
            ]
          },
          "metadata": {},
          "execution_count": 1
        }
      ]
    },
    {
      "cell_type": "markdown",
      "source": [
        "Задание 2"
      ],
      "metadata": {
        "id": "IMDT0MSuF1jp"
      }
    },
    {
      "cell_type": "code",
      "source": [
        "from operator import itemgetter\n",
        "import requests\n",
        "import json\n",
        "\n",
        "API_URL = 'https://www.cbr-xml-daily.ru/daily_json.js'\n",
        "\n",
        "class Rate:\n",
        "  def __init__(self, format = 'value', diff = 'True'):\n",
        "    self.format = format\n",
        "    self.diff = diff\n",
        "\n",
        "  def exchange_rates(self):\n",
        "    \"\"\"\n",
        "    Возвращает ответ сервиса с информацией о валютах в виде:\n",
        "    {\n",
        "      \"AUD\": {\n",
        "        \"ID\": \"R01010\",\n",
        "        \"NumCode\": \"036\",\n",
        "        \"CharCode\": \"AUD\",\n",
        "        \"Nominal\": 1,\n",
        "        \"Name\": \"Австралийский доллар\",\n",
        "        \"Value\": 59.9983,\n",
        "        \"Previous\": 59.7741\n",
        "        },\n",
        "      ...\n",
        "    }\n",
        "    \"\"\"\n",
        "    self.r = requests.get(API_URL)\n",
        "    return self.r.json()['Valute']\n",
        "\n",
        "  def diff(self):\n",
        "    \"\"\"\n",
        "    Параметр diff (со значениями True или False) в случае значения True в методах курсов валют (eur, usd и т.д.)\n",
        "    возвращает не курс валюты, а изменение по сравнению в прошлым значением\n",
        "    \"\"\"\n",
        "    self.diff = diff\n",
        "\n",
        "  def make_format(self, currency):\n",
        "    response = self.exchange_rates()\n",
        "    if currency in response:\n",
        "      if self.format == 'value':\n",
        "        if self.diff == 'True':\n",
        "          difference = response[currency]['Value']-response[currency]['Previous']\n",
        "          return print(response[currency]['Name'], 'Текущее значение:', response[currency]['Value'], 'Изменение на:', difference)\n",
        "        else:\n",
        "          return response[currency]['Value']\n",
        "      return 'Error'\n",
        "\n",
        "  def eur(self):\n",
        "    \"\"\"\n",
        "    Возвращает курс евро на сегодня в формате self.format\n",
        "    \"\"\"\n",
        "    return self.make_format('EUR')\n",
        "\n",
        "  def usd(self):\n",
        "    \"\"\"\n",
        "    Возвращает курс доллара на сегодня в формате self.format\n",
        "    \"\"\"\n",
        "    return self.make_format('USD')\n",
        "\n",
        "  def aed(self):\n",
        "    \"\"\"\n",
        "    Возвращает курс дирхама ОАЭ на сегодня в формате self.format\n",
        "    \"\"\"\n",
        "    return self.make_format('AED')\n",
        "\n",
        "  def krw(self):\n",
        "    \"\"\"\n",
        "    Возвращает курс корейских вон на сегодня в формате self.format\n",
        "    \"\"\"\n",
        "    return self.make_format('KRW')\n",
        "\n",
        "  def jpy(self):\n",
        "    \"\"\"\n",
        "    Возвращает курс японских йен на сегодня в формате self.format\n",
        "    \"\"\"\n",
        "    return self.make_format('JPY')\n",
        "\n",
        "r = Rate()\n",
        "r.aed()"
      ],
      "metadata": {
        "colab": {
          "base_uri": "https://localhost:8080/"
        },
        "id": "dTQ89yRwF4GD",
        "outputId": "cd702d83-d1fd-46b2-df07-181b13bacf74"
      },
      "execution_count": null,
      "outputs": [
        {
          "output_type": "stream",
          "name": "stdout",
          "text": [
            "Дирхам ОАЭ Текущее значение: 25.4028 Изменение на: 0.010899999999999466\n"
          ]
        }
      ]
    },
    {
      "cell_type": "markdown",
      "source": [
        "Задание 3"
      ],
      "metadata": {
        "id": "A25bHnkZCBvM"
      }
    },
    {
      "cell_type": "code",
      "source": [
        "class Employee:\n",
        "  def __init__(self, name, seniority, awards):\n",
        "    self.name = name\n",
        "    self.seniority = seniority\n",
        "    self.awards = awards\n",
        "    self.grade = 1\n",
        "\n",
        "  def grade_up(self):\n",
        "    \"\"\"\n",
        "    Повышает уровень сотрудника\n",
        "    \"\"\"\n",
        "    self.grade += 1\n",
        "\n",
        "  def publish_grade(self):\n",
        "    \"\"\"\n",
        "    Публикация результатов аккредитации сотрудников\n",
        "    \"\"\"\n",
        "    print(self.name, self.grade)\n",
        "\n",
        "  def check_if_it_is_time_for_upgrade(self):\n",
        "    pass\n",
        "\n",
        "class Developer(Employee):\n",
        "  def __init__(self, name, seniority, awards = 0):\n",
        "    super().__init__(name, seniority, awards = 0)\n",
        "\n",
        "  def check_if_it_is_time_for_upgrade(self):\n",
        "    # для каждой аккредитации увеличиваем счетчик на 1\n",
        "    # пока считаем, что все разработчики проходят аккредитацию\n",
        "    self.seniority += 1\n",
        "    # условие повышения сотрудника из презентации\n",
        "    if self.seniority % 5 == 0:\n",
        "      self.grade_up()\n",
        "    # публикация результатов\n",
        "    return self.publish_grade()\n",
        "\n",
        "class Designer(Employee):\n",
        "  def __init__(self, name, seniority, awards):\n",
        "    super().__init__(name, seniority, awards)\n",
        "\n",
        "  def check_if_it_is_time_for_upgrade(self):\n",
        "    if self.seniority == 0:\n",
        "      self.seniority = 1 + self.awards * 2\n",
        "    else:\n",
        "      self.seniority += 1\n",
        "    if self.seniority % 7 == 0:\n",
        "      self.grade_up()\n",
        "    return self.publish_grade()"
      ],
      "metadata": {
        "id": "HnPF8b86FiWF"
      },
      "execution_count": null,
      "outputs": []
    },
    {
      "cell_type": "code",
      "source": [
        "Anna = Designer('Анна', 0, 2)"
      ],
      "metadata": {
        "id": "9VxGpW48Md99"
      },
      "execution_count": null,
      "outputs": []
    },
    {
      "cell_type": "code",
      "source": [
        "for i in range(30):\n",
        "  Anna.check_if_it_is_time_for_upgrade()"
      ],
      "metadata": {
        "colab": {
          "base_uri": "https://localhost:8080/"
        },
        "id": "RWqHAs6eMwHj",
        "outputId": "09d885b8-e517-43c0-c68c-5dcc392e53a1"
      },
      "execution_count": null,
      "outputs": [
        {
          "output_type": "stream",
          "name": "stdout",
          "text": [
            "Анна 1\n",
            "Анна 1\n",
            "Анна 2\n",
            "Анна 2\n",
            "Анна 2\n",
            "Анна 2\n",
            "Анна 2\n",
            "Анна 2\n",
            "Анна 2\n",
            "Анна 3\n",
            "Анна 3\n",
            "Анна 3\n",
            "Анна 3\n",
            "Анна 3\n",
            "Анна 3\n",
            "Анна 3\n",
            "Анна 4\n",
            "Анна 4\n",
            "Анна 4\n",
            "Анна 4\n",
            "Анна 4\n",
            "Анна 4\n",
            "Анна 4\n",
            "Анна 5\n",
            "Анна 5\n",
            "Анна 5\n",
            "Анна 5\n",
            "Анна 5\n",
            "Анна 5\n",
            "Анна 5\n"
          ]
        }
      ]
    },
    {
      "cell_type": "code",
      "source": [
        "Alex = Developer('Александр', 0)"
      ],
      "metadata": {
        "id": "cjjRgHWJQk7I"
      },
      "execution_count": null,
      "outputs": []
    },
    {
      "cell_type": "code",
      "source": [
        "for i in range(20):\n",
        "  Alex.check_if_it_is_time_for_upgrade()"
      ],
      "metadata": {
        "colab": {
          "base_uri": "https://localhost:8080/"
        },
        "id": "2SYwOIiAQnN7",
        "outputId": "8cef6ef2-3b7d-4055-fecb-c1737ada5923"
      },
      "execution_count": null,
      "outputs": [
        {
          "output_type": "stream",
          "name": "stdout",
          "text": [
            "Александр 1\n",
            "Александр 1\n",
            "Александр 1\n",
            "Александр 1\n",
            "Александр 2\n",
            "Александр 2\n",
            "Александр 2\n",
            "Александр 2\n",
            "Александр 2\n",
            "Александр 3\n",
            "Александр 3\n",
            "Александр 3\n",
            "Александр 3\n",
            "Александр 3\n",
            "Александр 4\n",
            "Александр 4\n",
            "Александр 4\n",
            "Александр 4\n",
            "Александр 4\n",
            "Александр 5\n"
          ]
        }
      ]
    }
  ]
}