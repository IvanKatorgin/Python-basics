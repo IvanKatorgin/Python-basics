{
  "cells": [
    {
      "cell_type": "markdown",
      "metadata": {
        "id": "view-in-github",
        "colab_type": "text"
      },
      "source": [
        "<a href=\"https://colab.research.google.com/github/IvanKatorgin/Python-basics/blob/main/%D0%9E%D1%81%D0%BD%D0%BE%D0%B2%D1%8B_Python_%D0%BB%D0%B0%D0%B1%D0%BE%D1%80%D0%B0%D1%82%D0%BE%D1%80%D0%BD%D0%B0%D1%8F_%D1%80%D0%B0%D0%B1%D0%BE%D1%82%D0%B0.ipynb\" target=\"_parent\"><img src=\"https://colab.research.google.com/assets/colab-badge.svg\" alt=\"Open In Colab\"/></a>"
      ]
    },
    {
      "cell_type": "markdown",
      "metadata": {
        "id": "f3Yf9WCDmCNX"
      },
      "source": [
        "## Лабораторная работа по курсу «Основы Python»"
      ]
    },
    {
      "cell_type": "markdown",
      "metadata": {
        "id": "L1cNaHCHmCNd"
      },
      "source": [
        "### При выполнении работы допускается использование любых внешних модулей и пакетов."
      ]
    },
    {
      "cell_type": "markdown",
      "metadata": {
        "id": "Act40h_XmCNe"
      },
      "source": [
        "#### Задача 1"
      ]
    },
    {
      "cell_type": "markdown",
      "metadata": {
        "id": "kP5U0HeTmCNe"
      },
      "source": [
        "Дан список:"
      ]
    },
    {
      "cell_type": "code",
      "execution_count": null,
      "metadata": {
        "id": "YYhLD7ZJmCNf"
      },
      "outputs": [],
      "source": [
        "list_01 = [1, 1, 2, 3, 5, 8, 13, 21, 34, 55, 89, 144, 233, 377, 610, 14, 46, 273, 22, 99, 15, 1000]"
      ]
    },
    {
      "cell_type": "markdown",
      "metadata": {
        "id": "EphqzOfxmCNg"
      },
      "source": [
        "Напишите алгоритм, который выводит число, равное сумме элементов списка, которые больше 10, но меньше 100, и которые больше 200, но меньше 500."
      ]
    },
    {
      "cell_type": "markdown",
      "source": [
        "Решение 1"
      ],
      "metadata": {
        "id": "yP__LtUHlGvz"
      }
    },
    {
      "cell_type": "code",
      "execution_count": null,
      "metadata": {
        "colab": {
          "base_uri": "https://localhost:8080/"
        },
        "id": "0w2UreZQmCNh",
        "outputId": "055450f6-5bd4-439d-f5cf-46e30af294b1"
      },
      "outputs": [
        {
          "output_type": "stream",
          "name": "stdout",
          "text": [
            "1291\n"
          ]
        }
      ],
      "source": [
        "res = []\n",
        "\n",
        "for el in list_01:\n",
        "  if 10 < el < 100 or 200 < el < 500:\n",
        "    res.append(el)\n",
        "\n",
        "print(sum(res))"
      ]
    },
    {
      "cell_type": "markdown",
      "source": [
        "Решение 2"
      ],
      "metadata": {
        "id": "g_zQfciAlKVq"
      }
    },
    {
      "cell_type": "code",
      "source": [
        "res_ = sum([el for el in list_01 if 10 < el < 100 or 200 < el < 500])\n",
        "print(res_)"
      ],
      "metadata": {
        "colab": {
          "base_uri": "https://localhost:8080/"
        },
        "id": "xJCd6dJ3ERY4",
        "outputId": "9f24a147-0061-4f8e-9aa7-9df3bbdb55f8"
      },
      "execution_count": null,
      "outputs": [
        {
          "output_type": "stream",
          "name": "stdout",
          "text": [
            "1291\n"
          ]
        }
      ]
    },
    {
      "cell_type": "markdown",
      "metadata": {
        "id": "AonenWq0mCNh"
      },
      "source": [
        "#### Задача 2"
      ]
    },
    {
      "cell_type": "markdown",
      "metadata": {
        "id": "wjwxhyPmmCNi"
      },
      "source": [
        "Дана строка:"
      ]
    },
    {
      "cell_type": "code",
      "execution_count": null,
      "metadata": {
        "id": "ev4j0Br5mCNi"
      },
      "outputs": [],
      "source": [
        "some_string = \"History is always written by the winners. When two cultures clash, the loser is obliterated, and the winner writes the history books - books which glorify their own cause and disparage the conquered foe. As Napoleon once said, 'What is history, but a fable agreed upon?'\""
      ]
    },
    {
      "cell_type": "markdown",
      "source": [],
      "metadata": {
        "id": "RJo6n4zLwLmp"
      }
    },
    {
      "cell_type": "markdown",
      "metadata": {
        "id": "OBXP6lTdmCNi"
      },
      "source": [
        "Напишите функцию, которая будет принимать в качестве аргумента букву и выводить все слова из строки, начинающиеся на эту букву (например, “w”)."
      ]
    },
    {
      "cell_type": "markdown",
      "source": [
        "Решение 1"
      ],
      "metadata": {
        "id": "fmr3i2I2lNxh"
      }
    },
    {
      "cell_type": "code",
      "source": [
        "import re\n",
        "\n",
        "print('введите любую букву (латиница):')\n",
        "w = input().lower()\n",
        "pattern = fr'\\b{w}\\w*'\n",
        "\n",
        "def find_word():\n",
        "  for word in some_string.lower().split():\n",
        "    if re.search(pattern, word) and len(word) > 1:\n",
        "      print(word)\n",
        "  return\n",
        "\n",
        "find_word()"
      ],
      "metadata": {
        "colab": {
          "base_uri": "https://localhost:8080/"
        },
        "id": "iY23w6zQEBz2",
        "outputId": "0c4daff1-0f9d-4b30-a1a4-bfb26892a6ee"
      },
      "execution_count": null,
      "outputs": [
        {
          "output_type": "stream",
          "name": "stdout",
          "text": [
            "введите любую букву (латиница):\n",
            "w\n",
            "written\n",
            "winners.\n",
            "when\n",
            "winner\n",
            "writes\n",
            "which\n",
            "'what\n"
          ]
        }
      ]
    },
    {
      "cell_type": "markdown",
      "source": [
        "Решение 2"
      ],
      "metadata": {
        "id": "aiLZbzVHlPcq"
      }
    },
    {
      "cell_type": "code",
      "source": [
        "import re\n",
        "\n",
        "print('введите любую букву (латиница):')\n",
        "w = input().lower()\n",
        "\n",
        "def print_words ():\n",
        "  pattern = fr'\\b{w}\\w*'\n",
        "  list_words = re.findall(pattern, some_string, re.IGNORECASE)\n",
        "  print(list_words)\n",
        "  return\n",
        "\n",
        "print_words ()"
      ],
      "metadata": {
        "colab": {
          "base_uri": "https://localhost:8080/"
        },
        "id": "MThyUuITfrct",
        "outputId": "b4debc1b-0b9f-4a4e-a16c-560e9d84c9f3"
      },
      "execution_count": null,
      "outputs": [
        {
          "output_type": "stream",
          "name": "stdout",
          "text": [
            "введите любую букву (латиница):\n",
            "w\n",
            "['written', 'winners', 'When', 'winner', 'writes', 'which', 'What']\n"
          ]
        }
      ]
    },
    {
      "cell_type": "markdown",
      "source": [
        "Решение 3"
      ],
      "metadata": {
        "id": "VJUlaREolRfw"
      }
    },
    {
      "cell_type": "code",
      "source": [
        "import re\n",
        "\n",
        "def print_words (letter):\n",
        "    pattern = fr'\\b{letter}\\w*'\n",
        "    list_words = re.findall(pattern, some_string, re.IGNORECASE)\n",
        "    print(list_words)\n",
        "\n",
        "print_words('w')"
      ],
      "metadata": {
        "colab": {
          "base_uri": "https://localhost:8080/"
        },
        "id": "F6wcrK3AgIh5",
        "outputId": "7f093170-8a6b-41d5-fdcc-e9f867cae374"
      },
      "execution_count": null,
      "outputs": [
        {
          "output_type": "stream",
          "name": "stdout",
          "text": [
            "['written', 'winners', 'When', 'winner', 'writes', 'which', 'What']\n"
          ]
        }
      ]
    },
    {
      "cell_type": "markdown",
      "metadata": {
        "id": "z7_tTBbVmCNj"
      },
      "source": [
        "#### Задача 3"
      ]
    },
    {
      "cell_type": "markdown",
      "metadata": {
        "id": "-c0r1kyhmCNj"
      },
      "source": [
        "Напишите функцию, которая генерирует случайную последовательность из 6 цифр, причем в этой последовательности должна быть как минимум одна цифра 3. Позиция 3 определяться случайным образом. Например: \"456379\" или \"033456\"."
      ]
    },
    {
      "cell_type": "markdown",
      "source": [
        "Решение 1"
      ],
      "metadata": {
        "id": "RoVKBPXvlT_5"
      }
    },
    {
      "cell_type": "code",
      "execution_count": null,
      "metadata": {
        "colab": {
          "base_uri": "https://localhost:8080/"
        },
        "id": "9QfXnFaDmCNj",
        "outputId": "e97e431c-25d7-45cb-c887-e31098505794"
      },
      "outputs": [
        {
          "output_type": "stream",
          "name": "stdout",
          "text": [
            "343149\n"
          ]
        }
      ],
      "source": [
        "import random\n",
        "\n",
        "def random_number ():\n",
        "  n = ''\n",
        "  while '3' not in n:\n",
        "    n = ''.join([str(random.randint(0, 9)) for x in range(6)])\n",
        "    print(n)\n",
        "\n",
        "random_number()"
      ]
    },
    {
      "cell_type": "markdown",
      "metadata": {
        "id": "ntuDytaQmCNk"
      },
      "source": [
        "#### Задача 4"
      ]
    },
    {
      "cell_type": "markdown",
      "metadata": {
        "id": "pQxia3RUmCNk"
      },
      "source": [
        "Данные студентов представлены в виде списка списков:"
      ]
    },
    {
      "cell_type": "code",
      "execution_count": null,
      "metadata": {
        "id": "tAGDzLcLmCNk"
      },
      "outputs": [],
      "source": [
        "students = [\n",
        "[\"0001\", \"Антонов\", \"Антон\", \"Игоревич\", \"20.08.2009\",\"БСТ161\"],\n",
        "[\"1102\", \"Богов\", \"Артем\", \"Игоревич\", \"25.01.2010\",\"БСТ162\"],\n",
        "[\"0333\", \"Глаголева\", \"Анастасия\", \"Николаевна\", \"11.07.2009\", \"БСТ163\"],\n",
        "[\"4004\", \"Степанова\", \"Наталья\", \"Александровна\", \"13.02.2008\", \"БСТ161\"],\n",
        "[\"0045\", \"Боков\", \"Игорь\", \"Харитонович\", \"02.06.2009\", \"БСТ161\"],\n",
        "[\"0096\", \"Васильков\", \"Валентин\", \"Сергеевич\", \"20.03.2009\", \"БСТ164\"],\n",
        "[\"0607\", \"Сиропова\", \"Виолетта\", \"Эдуардовна\", \"28.05.2010\", \"БСТ162\"],\n",
        "[\"4014\", \"Потапов\", \"Дмитрий\", \"Станиславович\", \"14.02.2012\", \"БСТ161\"]\n",
        "    ]"
      ]
    },
    {
      "cell_type": "markdown",
      "metadata": {
        "id": "4ikARQGhmCNk"
      },
      "source": [
        "1. Преобразуйте данные таким образом, чтобы они были представлены в виде словаря, в котором ключами являются номера студентов, а значениями — список из других данных о студентах."
      ]
    },
    {
      "cell_type": "markdown",
      "source": [
        "Решение 1"
      ],
      "metadata": {
        "id": "9AJ7duWxlXYZ"
      }
    },
    {
      "cell_type": "code",
      "execution_count": null,
      "metadata": {
        "colab": {
          "base_uri": "https://localhost:8080/"
        },
        "id": "k06VLq-tmCNl",
        "outputId": "9a341aaf-23e7-41ec-ffa7-e8612b0cf960"
      },
      "outputs": [
        {
          "output_type": "execute_result",
          "data": {
            "text/plain": [
              "{'0001': ['Антонов', 'Антон', 'Игоревич', '20.08.2009', 'БСТ161'],\n",
              " '1102': ['Богов', 'Артем', 'Игоревич', '25.01.2010', 'БСТ162'],\n",
              " '0333': ['Глаголева', 'Анастасия', 'Николаевна', '11.07.2009', 'БСТ163'],\n",
              " '4004': ['Степанова', 'Наталья', 'Александровна', '13.02.2008', 'БСТ161'],\n",
              " '0045': ['Боков', 'Игорь', 'Харитонович', '02.06.2009', 'БСТ161'],\n",
              " '0096': ['Васильков', 'Валентин', 'Сергеевич', '20.03.2009', 'БСТ164'],\n",
              " '0607': ['Сиропова', 'Виолетта', 'Эдуардовна', '28.05.2010', 'БСТ162'],\n",
              " '4014': ['Потапов', 'Дмитрий', 'Станиславович', '14.02.2012', 'БСТ161']}"
            ]
          },
          "metadata": {},
          "execution_count": 276
        }
      ],
      "source": [
        "students_dict = dict()\n",
        "for x in students:\n",
        "  students_dict[x[0]] = x[1:]\n",
        "\n",
        "students_dict"
      ]
    },
    {
      "cell_type": "markdown",
      "source": [
        "Решение 2"
      ],
      "metadata": {
        "id": "YMZ9Fo11lZGm"
      }
    },
    {
      "cell_type": "code",
      "source": [
        "dict([(el[0], el[1:]) for el in students])"
      ],
      "metadata": {
        "colab": {
          "base_uri": "https://localhost:8080/"
        },
        "id": "YOQEwQ8Si5i8",
        "outputId": "ac0e5642-6f14-48cf-b57c-3b8db8453493"
      },
      "execution_count": null,
      "outputs": [
        {
          "output_type": "execute_result",
          "data": {
            "text/plain": [
              "{'0001': ['Антонов', 'Антон', 'Игоревич', '20.08.2009', 'БСТ161'],\n",
              " '1102': ['Богов', 'Артем', 'Игоревич', '25.01.2010', 'БСТ162'],\n",
              " '0333': ['Глаголева', 'Анастасия', 'Николаевна', '11.07.2009', 'БСТ163'],\n",
              " '4004': ['Степанова', 'Наталья', 'Александровна', '13.02.2008', 'БСТ161'],\n",
              " '0045': ['Боков', 'Игорь', 'Харитонович', '02.06.2009', 'БСТ161'],\n",
              " '0096': ['Васильков', 'Валентин', 'Сергеевич', '20.03.2009', 'БСТ164'],\n",
              " '0607': ['Сиропова', 'Виолетта', 'Эдуардовна', '28.05.2010', 'БСТ162'],\n",
              " '4014': ['Потапов', 'Дмитрий', 'Станиславович', '14.02.2012', 'БСТ161']}"
            ]
          },
          "metadata": {},
          "execution_count": 277
        }
      ]
    },
    {
      "cell_type": "markdown",
      "metadata": {
        "id": "jGHSFbkBmCNl"
      },
      "source": [
        "2. Напишите функцию, которая принимает номер группы и выводит пронумерованный и упорядоченный по алфавиту список (фамилии, имена, отчества) всех студентов этой группы. Необходимо обращаться к словарю."
      ]
    },
    {
      "cell_type": "markdown",
      "source": [
        "Решение 1"
      ],
      "metadata": {
        "id": "q5bS7wpMlbmW"
      }
    },
    {
      "cell_type": "code",
      "execution_count": null,
      "metadata": {
        "colab": {
          "base_uri": "https://localhost:8080/"
        },
        "id": "b3iUU_fZmCNl",
        "outputId": "d5005a38-7220-4da0-9121-c6bb2273739b"
      },
      "outputs": [
        {
          "output_type": "stream",
          "name": "stdout",
          "text": [
            "введите номер группы:\n",
            "БСТ162\n",
            "1 Богов Артем Игоревич\n",
            "2 Сиропова Виолетта Эдуардовна\n"
          ]
        }
      ],
      "source": [
        "print('введите номер группы:')\n",
        "group = str(input())\n",
        "\n",
        "\n",
        "def print_group ():\n",
        "  group_list = list()\n",
        "  for x in students_dict.values():\n",
        "    if x[-1] == group:\n",
        "      group_list.append(f'{x[0]} {x[1]} {x[2]}')\n",
        "  sorted_list = sorted(group_list)\n",
        "  for x, i in enumerate(sorted_list):\n",
        "    print(x+1, i)\n",
        "\n",
        "print_group()"
      ]
    },
    {
      "cell_type": "markdown",
      "source": [
        "Решение 2"
      ],
      "metadata": {
        "id": "_cnBddfZldG_"
      }
    },
    {
      "cell_type": "code",
      "execution_count": null,
      "metadata": {
        "colab": {
          "base_uri": "https://localhost:8080/"
        },
        "id": "eMgQ1qgTmCNl",
        "outputId": "b87b359e-a75e-4ebd-9644-0a1211e4a9c3"
      },
      "outputs": [
        {
          "output_type": "stream",
          "name": "stdout",
          "text": [
            "1 Богов Артем Игоревич\n",
            "2 Сиропова Виолетта Эдуардовна\n"
          ]
        }
      ],
      "source": [
        "def print_group (group):\n",
        "  group_list = list()\n",
        "  for x in students_dict.values():\n",
        "    if x[-1] == group:\n",
        "      group_list.append(f'{x[0]} {x[1]} {x[2]}')\n",
        "  sorted_list = sorted(group_list)\n",
        "  for x, i in enumerate(sorted_list):\n",
        "    print(x+1, i)\n",
        "\n",
        "print_group('БСТ162')"
      ]
    },
    {
      "cell_type": "markdown",
      "metadata": {
        "id": "poqKQDOnmCNl"
      },
      "source": [
        "#### Задача 5"
      ]
    },
    {
      "cell_type": "markdown",
      "metadata": {
        "id": "BsE7tVrymCNl"
      },
      "source": [
        "Создайте класс Student, который создает объекты с данными о студентах (как в задаче 4). Класс должен иметь следующие методы: add_to_dict (добавляет объект в словарь из задачи 4), update_dict (обновляет запись о студенте в словаре из задачи 4), change_group (изменяет номер группы студента), change_id (изменяет номер студента) и print_date (выводит на экран данные студента)."
      ]
    },
    {
      "cell_type": "code",
      "execution_count": null,
      "metadata": {
        "id": "ufxKlSAemCNl"
      },
      "outputs": [],
      "source": [
        "class Student:\n",
        "  def __init__(self, s_id, last_name, first_name, patronomic_name, date, group):\n",
        "    self.s_id = s_id\n",
        "    self.last_name = last_name\n",
        "    self.first_name = first_name\n",
        "    self.patronomic_name = patronomic_name\n",
        "    self.date = date\n",
        "    self.group = group\n",
        "\n",
        "  def add_to_dict(self):\n",
        "    if self.s_id in students_dict.keys():\n",
        "      print('Error')\n",
        "    else:\n",
        "      students_dict[self.s_id] = [self.last_name, self.first_name, self.patronomic_name, self.date, self.group]\n",
        "\n",
        "  def update_dict(self):\n",
        "    students_dict[self.s_id] = [self.last_name, self.first_name, self.patronomic_name, self.date, self.group]\n",
        "\n",
        "  def change_group(self, new_group):\n",
        "    self.group = new_group\n",
        "\n",
        "  def change_id(self, new_id):\n",
        "    self.s_id = new_id\n",
        "\n",
        "  def print_data(self):\n",
        "    print(f'{self.s_id} {self.last_name} {self.first_name} {self.patronomic_name}')\n"
      ]
    },
    {
      "cell_type": "markdown",
      "metadata": {
        "id": "yzpaTyg8mCNl"
      },
      "source": [
        "1. Создайте объект класса, добавьте его в словарь. Обновленный словарь выведете на экран."
      ]
    },
    {
      "cell_type": "code",
      "execution_count": null,
      "metadata": {
        "id": "66RCb7YrmCNm"
      },
      "outputs": [],
      "source": [
        "volkova = Student('0001', 'Волкова', 'Галина', 'Сергеевна', '18.12.2022', 'БСТ100')"
      ]
    },
    {
      "cell_type": "code",
      "execution_count": null,
      "metadata": {
        "colab": {
          "base_uri": "https://localhost:8080/"
        },
        "id": "gIDGUxdUmCNm",
        "outputId": "cc5a0f99-f3ba-44f2-8727-67ea9a07d9d0"
      },
      "outputs": [
        {
          "output_type": "stream",
          "name": "stdout",
          "text": [
            "0001 Волкова Галина Сергеевна\n"
          ]
        }
      ],
      "source": [
        "volkova.print_data()"
      ]
    },
    {
      "cell_type": "code",
      "execution_count": null,
      "metadata": {
        "colab": {
          "base_uri": "https://localhost:8080/"
        },
        "id": "wI-CKQt3mCNm",
        "outputId": "b561ec5a-2f1d-47cb-fe40-f08a5ebf72b6"
      },
      "outputs": [
        {
          "output_type": "stream",
          "name": "stdout",
          "text": [
            "Error\n"
          ]
        }
      ],
      "source": [
        "volkova.add_to_dict()"
      ]
    },
    {
      "cell_type": "code",
      "execution_count": null,
      "metadata": {
        "id": "TNN6E0UFmCNm"
      },
      "outputs": [],
      "source": [
        "volkova.change_id('0002')"
      ]
    },
    {
      "cell_type": "code",
      "execution_count": null,
      "metadata": {
        "colab": {
          "base_uri": "https://localhost:8080/"
        },
        "id": "3o82tMDrmCNm",
        "outputId": "d4e6f2e6-181c-4086-e262-aeae871dff3e"
      },
      "outputs": [
        {
          "output_type": "stream",
          "name": "stdout",
          "text": [
            "0002 Волкова Галина Сергеевна\n"
          ]
        }
      ],
      "source": [
        "volkova.print_data()"
      ]
    },
    {
      "cell_type": "code",
      "source": [
        "volkova.add_to_dict()"
      ],
      "metadata": {
        "id": "FgObxlKzoTLD"
      },
      "execution_count": null,
      "outputs": []
    },
    {
      "cell_type": "code",
      "source": [
        "students_dict"
      ],
      "metadata": {
        "colab": {
          "base_uri": "https://localhost:8080/"
        },
        "id": "QX4niOtioYjh",
        "outputId": "4b7fd3f0-3c8c-4463-8d33-a817416f1860"
      },
      "execution_count": null,
      "outputs": [
        {
          "output_type": "execute_result",
          "data": {
            "text/plain": [
              "{'0001': ['Антонов', 'Антон', 'Игоревич', '20.08.2009', 'БСТ161'],\n",
              " '1102': ['Богов', 'Артем', 'Игоревич', '25.01.2010', 'БСТ162'],\n",
              " '0333': ['Глаголева', 'Анастасия', 'Николаевна', '11.07.2009', 'БСТ163'],\n",
              " '4004': ['Степанова', 'Наталья', 'Александровна', '13.02.2008', 'БСТ161'],\n",
              " '0045': ['Боков', 'Игорь', 'Харитонович', '02.06.2009', 'БСТ161'],\n",
              " '0096': ['Васильков', 'Валентин', 'Сергеевич', '20.03.2009', 'БСТ164'],\n",
              " '0607': ['Сиропова', 'Виолетта', 'Эдуардовна', '28.05.2010', 'БСТ162'],\n",
              " '4014': ['Потапов', 'Дмитрий', 'Станиславович', '14.02.2012', 'БСТ161'],\n",
              " '0002': ['Волкова', 'Галина', 'Сергеевна', '18.12.2022', 'БСТ100']}"
            ]
          },
          "metadata": {},
          "execution_count": 291
        }
      ]
    },
    {
      "cell_type": "markdown",
      "metadata": {
        "id": "giZT3cKmmCNq"
      },
      "source": [
        "2. Измените номер группы студентки Волковой на 'БСТ161' и выведите обновленный список группы."
      ]
    },
    {
      "cell_type": "code",
      "execution_count": null,
      "metadata": {
        "colab": {
          "base_uri": "https://localhost:8080/",
          "height": 36
        },
        "id": "LNVn2rjrmCNr",
        "outputId": "db334715-bb04-4e67-9827-fadbcaa341f8"
      },
      "outputs": [
        {
          "output_type": "execute_result",
          "data": {
            "text/plain": [
              "'БСТ100'"
            ],
            "application/vnd.google.colaboratory.intrinsic+json": {
              "type": "string"
            }
          },
          "metadata": {},
          "execution_count": 292
        }
      ],
      "source": [
        "volkova.group"
      ]
    },
    {
      "cell_type": "code",
      "execution_count": null,
      "metadata": {
        "id": "iDm0t47gmCNr"
      },
      "outputs": [],
      "source": [
        "volkova.change_group('БСТ161')"
      ]
    },
    {
      "cell_type": "code",
      "execution_count": null,
      "metadata": {
        "colab": {
          "base_uri": "https://localhost:8080/",
          "height": 36
        },
        "id": "dYMOzIySmCNr",
        "outputId": "6e085f68-93b1-40fa-e07b-05f7ff86b686"
      },
      "outputs": [
        {
          "output_type": "execute_result",
          "data": {
            "text/plain": [
              "'БСТ161'"
            ],
            "application/vnd.google.colaboratory.intrinsic+json": {
              "type": "string"
            }
          },
          "metadata": {},
          "execution_count": 294
        }
      ],
      "source": [
        "volkova.group"
      ]
    },
    {
      "cell_type": "code",
      "execution_count": null,
      "metadata": {
        "colab": {
          "base_uri": "https://localhost:8080/"
        },
        "id": "YwZHuwIomCNr",
        "outputId": "d6b96681-2020-4e84-bb7c-cf7bcc50bb88"
      },
      "outputs": [
        {
          "output_type": "execute_result",
          "data": {
            "text/plain": [
              "{'0001': ['Антонов', 'Антон', 'Игоревич', '20.08.2009', 'БСТ161'],\n",
              " '1102': ['Богов', 'Артем', 'Игоревич', '25.01.2010', 'БСТ162'],\n",
              " '0333': ['Глаголева', 'Анастасия', 'Николаевна', '11.07.2009', 'БСТ163'],\n",
              " '4004': ['Степанова', 'Наталья', 'Александровна', '13.02.2008', 'БСТ161'],\n",
              " '0045': ['Боков', 'Игорь', 'Харитонович', '02.06.2009', 'БСТ161'],\n",
              " '0096': ['Васильков', 'Валентин', 'Сергеевич', '20.03.2009', 'БСТ164'],\n",
              " '0607': ['Сиропова', 'Виолетта', 'Эдуардовна', '28.05.2010', 'БСТ162'],\n",
              " '4014': ['Потапов', 'Дмитрий', 'Станиславович', '14.02.2012', 'БСТ161'],\n",
              " '0002': ['Волкова', 'Галина', 'Сергеевна', '18.12.2022', 'БСТ100']}"
            ]
          },
          "metadata": {},
          "execution_count": 295
        }
      ],
      "source": [
        "students_dict"
      ]
    },
    {
      "cell_type": "code",
      "source": [
        "volkova.update_dict()"
      ],
      "metadata": {
        "id": "FXxj_1Qfoxtj"
      },
      "execution_count": null,
      "outputs": []
    },
    {
      "cell_type": "code",
      "source": [
        "students_dict"
      ],
      "metadata": {
        "colab": {
          "base_uri": "https://localhost:8080/"
        },
        "id": "HkqbcsoOoyIO",
        "outputId": "a5059417-642e-4205-b734-e2413b6cd6d3"
      },
      "execution_count": null,
      "outputs": [
        {
          "output_type": "execute_result",
          "data": {
            "text/plain": [
              "{'0001': ['Антонов', 'Антон', 'Игоревич', '20.08.2009', 'БСТ161'],\n",
              " '1102': ['Богов', 'Артем', 'Игоревич', '25.01.2010', 'БСТ162'],\n",
              " '0333': ['Глаголева', 'Анастасия', 'Николаевна', '11.07.2009', 'БСТ163'],\n",
              " '4004': ['Степанова', 'Наталья', 'Александровна', '13.02.2008', 'БСТ161'],\n",
              " '0045': ['Боков', 'Игорь', 'Харитонович', '02.06.2009', 'БСТ161'],\n",
              " '0096': ['Васильков', 'Валентин', 'Сергеевич', '20.03.2009', 'БСТ164'],\n",
              " '0607': ['Сиропова', 'Виолетта', 'Эдуардовна', '28.05.2010', 'БСТ162'],\n",
              " '4014': ['Потапов', 'Дмитрий', 'Станиславович', '14.02.2012', 'БСТ161'],\n",
              " '0002': ['Волкова', 'Галина', 'Сергеевна', '18.12.2022', 'БСТ161']}"
            ]
          },
          "metadata": {},
          "execution_count": 297
        }
      ]
    },
    {
      "cell_type": "code",
      "source": [
        "print_group('БСТ161')"
      ],
      "metadata": {
        "colab": {
          "base_uri": "https://localhost:8080/"
        },
        "id": "A41kVqoHo266",
        "outputId": "6a3fdf6d-d5fa-45bd-9f56-8fecb2929462"
      },
      "execution_count": null,
      "outputs": [
        {
          "output_type": "stream",
          "name": "stdout",
          "text": [
            "1 Антонов Антон Игоревич\n",
            "2 Боков Игорь Харитонович\n",
            "3 Волкова Галина Сергеевна\n",
            "4 Потапов Дмитрий Станиславович\n",
            "5 Степанова Наталья Александровна\n"
          ]
        }
      ]
    },
    {
      "cell_type": "markdown",
      "metadata": {
        "id": "MU0nPiWAmCNr"
      },
      "source": [
        "#### Задача 6"
      ]
    },
    {
      "cell_type": "markdown",
      "metadata": {
        "id": "jyUWx15VmCNr"
      },
      "source": [
        "Дана матрица matrix. Напишите код, который будет транспонировать её (то есть, делать из строк столбцы) в maytix_t:\n",
        "\n",
        "matrix_t = [\n",
        "    [0, 6, 3, 4, 5],\n",
        "    [1, 2, 3, 6, 7],\n",
        "    [2, 2, 3, 7, 3],\n",
        "    [4, 1, 3, 1, 4],\n",
        "    [8, 9, 3, 2, 0]\n",
        "]"
      ]
    },
    {
      "cell_type": "code",
      "execution_count": null,
      "metadata": {
        "id": "bAm0_3-FmCNr"
      },
      "outputs": [],
      "source": [
        "matrix = [\n",
        "    [0,1,2,4,8],\n",
        "    [6,2,2,1,9],\n",
        "    [3,3,3,3,3],\n",
        "    [4,6,7,1,2],\n",
        "    [5,7,3,4,0]\n",
        "]"
      ]
    },
    {
      "cell_type": "markdown",
      "source": [
        "Решение 1"
      ],
      "metadata": {
        "id": "st6PG21LlgKc"
      }
    },
    {
      "cell_type": "code",
      "execution_count": null,
      "metadata": {
        "colab": {
          "base_uri": "https://localhost:8080/"
        },
        "id": "yl_QQqBdmCNr",
        "outputId": "c3639089-7cfb-4a75-c1f4-8b0495de3376"
      },
      "outputs": [
        {
          "output_type": "stream",
          "name": "stdout",
          "text": [
            "[[0, 6, 3, 4, 5], [1, 2, 3, 6, 7], [2, 2, 3, 7, 3], [4, 1, 3, 1, 4], [8, 9, 3, 2, 0]]\n"
          ]
        }
      ],
      "source": [
        "matrix_t = list(map(list,list(zip(*matrix))))\n",
        "print(matrix_t)"
      ]
    },
    {
      "cell_type": "markdown",
      "source": [
        "Решение 2"
      ],
      "metadata": {
        "id": "MkRDZR_BlhgT"
      }
    },
    {
      "cell_type": "code",
      "execution_count": null,
      "metadata": {
        "colab": {
          "base_uri": "https://localhost:8080/"
        },
        "id": "TlHh1l0SmCNs",
        "outputId": "0d00d8a1-4075-4031-d52b-d9815f07235a"
      },
      "outputs": [
        {
          "output_type": "stream",
          "name": "stdout",
          "text": [
            "[[0, 6, 3, 4, 5], [1, 2, 3, 6, 7], [2, 2, 3, 7, 3], [4, 1, 3, 1, 4], [8, 9, 3, 2, 0]]\n"
          ]
        }
      ],
      "source": [
        "matrix_t1 = [list(x) for x in zip(*matrix)]\n",
        "print(matrix_t1)"
      ]
    },
    {
      "cell_type": "markdown",
      "source": [
        "Решение 3"
      ],
      "metadata": {
        "id": "9gzAFMBgljON"
      }
    },
    {
      "cell_type": "code",
      "execution_count": null,
      "metadata": {
        "colab": {
          "base_uri": "https://localhost:8080/"
        },
        "id": "KOmvLAN4mCNs",
        "outputId": "85a2f771-dcd8-4c0e-bea4-4a92c0dcfc7b"
      },
      "outputs": [
        {
          "output_type": "stream",
          "name": "stdout",
          "text": [
            "(0, 6, 3, 4, 5)\n",
            "(1, 2, 3, 6, 7)\n",
            "(2, 2, 3, 7, 3)\n",
            "(4, 1, 3, 1, 4)\n",
            "(8, 9, 3, 2, 0)\n"
          ]
        }
      ],
      "source": [
        "for x in zip(*matrix):\n",
        "  print(x)"
      ]
    }
  ],
  "metadata": {
    "kernelspec": {
      "display_name": "Python 3",
      "language": "python",
      "name": "python3"
    },
    "language_info": {
      "codemirror_mode": {
        "name": "ipython",
        "version": 3
      },
      "file_extension": ".py",
      "mimetype": "text/x-python",
      "name": "python",
      "nbconvert_exporter": "python",
      "pygments_lexer": "ipython3",
      "version": "3.9.0"
    },
    "colab": {
      "provenance": [],
      "include_colab_link": true
    }
  },
  "nbformat": 4,
  "nbformat_minor": 0
}