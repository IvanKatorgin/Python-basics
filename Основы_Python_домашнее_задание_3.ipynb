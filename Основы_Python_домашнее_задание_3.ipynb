{
  "nbformat": 4,
  "nbformat_minor": 0,
  "metadata": {
    "colab": {
      "provenance": [],
      "include_colab_link": true
    },
    "kernelspec": {
      "name": "python3",
      "display_name": "Python 3"
    },
    "language_info": {
      "name": "python"
    }
  },
  "cells": [
    {
      "cell_type": "markdown",
      "metadata": {
        "id": "view-in-github",
        "colab_type": "text"
      },
      "source": [
        "<a href=\"https://colab.research.google.com/github/IvanKatorgin/Python-basics/blob/main/%D0%9E%D1%81%D0%BD%D0%BE%D0%B2%D1%8B_Python_%D0%B4%D0%BE%D0%BC%D0%B0%D1%88%D0%BD%D0%B5%D0%B5_%D0%B7%D0%B0%D0%B4%D0%B0%D0%BD%D0%B8%D0%B5_3.ipynb\" target=\"_parent\"><img src=\"https://colab.research.google.com/assets/colab-badge.svg\" alt=\"Open In Colab\"/></a>"
      ]
    },
    {
      "cell_type": "markdown",
      "source": [
        "Курс \"Основы Python\". Домашнее задание 3. Каторгин И.П."
      ],
      "metadata": {
        "id": "sfqYxvr3WURa"
      }
    },
    {
      "cell_type": "markdown",
      "source": [
        "Задание 1"
      ],
      "metadata": {
        "id": "fFFHb7IlWZdn"
      }
    },
    {
      "cell_type": "code",
      "source": [
        "ids = {'user1': [213, 213, 213, 15, 213],\n",
        "       'user2': [54, 54, 119, 119, 119],\n",
        "       'user3': [213, 98, 98, 35]}\n",
        "\n",
        "res = ({el_1 for el in ids.values() for el_1 in el})\n",
        "\n",
        "print(res, '\\n')\n",
        "print('конец задания 1')"
      ],
      "metadata": {
        "colab": {
          "base_uri": "https://localhost:8080/"
        },
        "id": "K7s73D57kEmA",
        "outputId": "a1d54f32-e178-494b-9b97-aa5741e6bfb0"
      },
      "execution_count": null,
      "outputs": [
        {
          "output_type": "stream",
          "name": "stdout",
          "text": [
            "{98, 35, 15, 213, 54, 119} \n",
            "\n",
            "конец задания 1\n"
          ]
        }
      ]
    },
    {
      "cell_type": "markdown",
      "source": [
        "Задание 2"
      ],
      "metadata": {
        "id": "uQK3fP_GziDP"
      }
    },
    {
      "cell_type": "code",
      "source": [
        "queries = ['смотреть сериалы онлайн',\n",
        "           'новости спорта',\n",
        "           'афиша кино',\n",
        "           'курс доллара',\n",
        "           'сериалы этим летом',\n",
        "           'курс по питону',\n",
        "           'сериалы про спорт',\n",
        "           ]\n",
        "\n",
        "res_1 = []\n",
        "res_2 = []\n",
        "\n",
        "for item in queries:\n",
        "  if len(item.split()) == 2:\n",
        "    res_1.append(1)\n",
        "  else:\n",
        "    res_2.append(1)\n",
        "\n",
        "print(f'Поисковых запросов, содержащих 2 слов(а): {round((sum(res_1) / len(queries) *100), 2)} %')\n",
        "print(f'Поисковых запросов, содержащих 3 слов(а): {round((sum(res_2) / len(queries) *100), 2)} %', '\\n')\n",
        "\n",
        "print('конец задания 2')"
      ],
      "metadata": {
        "colab": {
          "base_uri": "https://localhost:8080/"
        },
        "id": "9-uTRXyW6wpi",
        "outputId": "b6b3cc1b-b8a9-4116-ce93-fa85119621e7"
      },
      "execution_count": null,
      "outputs": [
        {
          "output_type": "stream",
          "name": "stdout",
          "text": [
            "Поисковых запросов, содержащих 2 слов(а): 42.86 %\n",
            "Поисковых запросов, содержащих 3 слов(а): 57.14 % \n",
            "\n",
            "конец задания 2\n"
          ]
        }
      ]
    },
    {
      "cell_type": "code",
      "source": [
        "queries = ['смотреть сериалы онлайн',\n",
        "           'новости спорта',\n",
        "           'афиша кино',\n",
        "           'курс доллара',\n",
        "           'сериалы этим летом',\n",
        "           'курс по питону',\n",
        "           'сериалы про спорт',\n",
        "           ]\n",
        "\n",
        "for i in set([len(i.split()) for i in queries]):\n",
        "\t\tprint(f'Поисковых запросов, содержащих {i} слов(а): {len([s for s in queries if len(s.split()) == i ]) / len(queries) :.2%}')\n",
        "\n",
        "print('\\n')\n",
        "print('конец задания 2')"
      ],
      "metadata": {
        "colab": {
          "base_uri": "https://localhost:8080/"
        },
        "id": "AUlTn-_B98xC",
        "outputId": "d37ebae6-c11a-43e3-ecd7-c182a6a956a6"
      },
      "execution_count": null,
      "outputs": [
        {
          "output_type": "stream",
          "name": "stdout",
          "text": [
            "Поисковых запросов, содержащих 2 слов(а): 42.86%\n",
            "Поисковых запросов, содержащих 3 слов(а): 57.14%\n",
            "\n",
            "\n",
            "конец задания 2\n"
          ]
        }
      ]
    },
    {
      "cell_type": "markdown",
      "source": [
        "Задание 3"
      ],
      "metadata": {
        "id": "kXJ4x4d_CEi_"
      }
    },
    {
      "cell_type": "code",
      "source": [
        "results = {\n",
        "    'vk': {'revenue': 103, 'cost': 98},\n",
        "    'yandex': {'revenue': 179, 'cost': 153},\n",
        "    'facebook': {'revenue': 103, 'cost': 110},\n",
        "    'adwords': {'revenue': 35, 'cost': 34},\n",
        "    'twitter': {'revenue': 11, 'cost': 24},\n",
        "    }\n",
        "\n",
        "print('Результат:', '\\n')\n",
        "\n",
        "for company, info in results.items():\n",
        "  if info['revenue'] > 0:\n",
        "    info['ROE'] = round((((info['revenue'] / info['cost']) - 1) * 100), 2)\n",
        "  else:\n",
        "    info['ROE'] = 'null'\n",
        "\n",
        "dict(sorted(results.items()))"
      ],
      "metadata": {
        "colab": {
          "base_uri": "https://localhost:8080/"
        },
        "id": "uBGVumP8JI87",
        "outputId": "e932fe9b-8610-4d6a-9f8b-8277a5a6ee85"
      },
      "execution_count": null,
      "outputs": [
        {
          "output_type": "stream",
          "name": "stdout",
          "text": [
            "Результат: \n",
            "\n"
          ]
        },
        {
          "output_type": "execute_result",
          "data": {
            "text/plain": [
              "{'adwords': {'revenue': 35, 'cost': 34, 'ROE': 2.94},\n",
              " 'facebook': {'revenue': 103, 'cost': 110, 'ROE': -6.36},\n",
              " 'twitter': {'revenue': 11, 'cost': 24, 'ROE': -54.17},\n",
              " 'vk': {'revenue': 103, 'cost': 98, 'ROE': 5.1},\n",
              " 'yandex': {'revenue': 179, 'cost': 153, 'ROE': 16.99}}"
            ]
          },
          "metadata": {},
          "execution_count": 18
        }
      ]
    },
    {
      "cell_type": "markdown",
      "source": [
        "Задание 4"
      ],
      "metadata": {
        "id": "-jFaAvXxLLIZ"
      }
    },
    {
      "cell_type": "code",
      "source": [
        "stats = {'facebook': 55, 'yandex': 115, 'vk': 120, 'google': 99, 'email': 42, 'ok': 98}\n",
        "\n",
        "\n",
        "print('Максимальный объем продаж на рекламном канале:', max(stats, key=stats.get), '\\n')\n",
        "print('конец задания 4')"
      ],
      "metadata": {
        "colab": {
          "base_uri": "https://localhost:8080/"
        },
        "id": "7AWqsTPbLOM9",
        "outputId": "b0928f02-4c82-4532-daa9-122d076d32a1"
      },
      "execution_count": null,
      "outputs": [
        {
          "output_type": "stream",
          "name": "stdout",
          "text": [
            "Максимальный объем продаж на рекламном канале: vk \n",
            "\n",
            "конец задания 4\n"
          ]
        }
      ]
    },
    {
      "cell_type": "markdown",
      "source": [
        "Задание 5"
      ],
      "metadata": {
        "id": "XuKCgXMMQrWM"
      }
    },
    {
      "cell_type": "code",
      "source": [
        "my_list = ['2018-01-01', 'yandex', 'cpc', 100]\n",
        "\n",
        "def make_dict(my_list):\n",
        "    def rec(i, d):\n",
        "        if i < 0:\n",
        "            return d\n",
        "        return rec(i - 1, {my_list[i]: d})\n",
        "    return rec(len(my_list) - 2, my_list[-1])\n",
        "print(make_dict(my_list), '\\n')\n",
        "print('конец задания 5')"
      ],
      "metadata": {
        "id": "iYx3pYTyQsvm",
        "colab": {
          "base_uri": "https://localhost:8080/"
        },
        "outputId": "9892f60c-3bdb-4e1e-c4e2-010e11709a5b"
      },
      "execution_count": null,
      "outputs": [
        {
          "output_type": "stream",
          "name": "stdout",
          "text": [
            "{'2018-01-01': {'yandex': {'cpc': 100}}} \n",
            "\n",
            "конец задания 5\n"
          ]
        }
      ]
    },
    {
      "cell_type": "code",
      "source": [
        "my_list = ['a', 'b', 'c', 'd', 'e', 'f']\n",
        "\n",
        "def make_dict(my_list):\n",
        "    def rec(i, d):\n",
        "        if i < 0:\n",
        "            return d\n",
        "        return rec(i - 1, {my_list[i]: d})\n",
        "    return rec(len(my_list) - 2, my_list[-1])\n",
        "print(make_dict(my_list), '\\n')\n",
        "\n",
        "print('конец задания 5')"
      ],
      "metadata": {
        "colab": {
          "base_uri": "https://localhost:8080/"
        },
        "id": "XcKHBhVTpRCI",
        "outputId": "cad3ce86-14eb-47f6-b036-dbf43823c202"
      },
      "execution_count": null,
      "outputs": [
        {
          "output_type": "stream",
          "name": "stdout",
          "text": [
            "{'a': {'b': {'c': {'d': {'e': 'f'}}}}} \n",
            "\n",
            "конец задания 5\n"
          ]
        }
      ]
    },
    {
      "cell_type": "markdown",
      "source": [
        "Задание 6"
      ],
      "metadata": {
        "id": "PQjGeNguqXCt"
      }
    },
    {
      "cell_type": "code",
      "source": [
        "cook_book = {\n",
        "    'салат': [\n",
        "        {'ingridient_name': 'сыр', 'quantity': 50, 'measure': 'гр'},\n",
        "        {'ingridient_name': 'томаты', 'quantity': 2, 'measure': 'шт'},\n",
        "        {'ingridient_name': 'огурцы', 'quantity': 20, 'measure': 'гр'},\n",
        "        {'ingridient_name': 'маслины', 'quantity': 10, 'measure': 'гр'},\n",
        "        {'ingridient_name': 'оливковое масло', 'quantity': 20, 'measure': 'мл'},\n",
        "        {'ingridient_name': 'салат', 'quantity': 10, 'measure': 'гр'},\n",
        "        {'ingridient_name': 'перец', 'quantity': 20, 'measure': 'гр'}\n",
        "      ],\n",
        "    'пицца': [\n",
        "        {'ingridient_name': 'сыр', 'quantity': 20, 'measure': 'гр'},\n",
        "        {'ingridient_name': 'колбаса', 'quantity': 30, 'measure': 'гр'},\n",
        "        {'ingridient_name': 'бекон', 'quantity': 30, 'measure': 'гр'},\n",
        "        {'ingridient_name': 'оливки', 'quantity': 10, 'measure': 'гр'},\n",
        "        {'ingridient_name': 'томаты', 'quantity': 20, 'measure': 'гр'},\n",
        "        {'ingridient_name': 'тесто', 'quantity': 100, 'measure': 'гр'},\n",
        "      ],\n",
        "    'лимонад': [\n",
        "        {'ingridient_name': 'лимон', 'quantity': 1, 'measure': 'шт'},\n",
        "        {'ingridient_name': 'вода', 'quantity': 200, 'measure': 'мл'},\n",
        "        {'ingridient_name': 'сахар', 'quantity': 10, 'measure': 'гр'},\n",
        "        {'ingridient_name': 'лайм', 'quantity': 20, 'measure': 'гр'},\n",
        "        ]\n",
        "    }\n",
        "\n",
        "print('Введите количество порций: ')\n",
        "person = int(input())\n",
        "print('\\n')\n",
        "\n",
        "shop_dict = {}\n",
        "for dish in cook_book.values():\n",
        "\tfor ingr in dish:\n",
        "\t\tkey = (ingr['ingridient_name'], ingr['measure'])\n",
        "\t\tshop_dict.setdefault(key, 0)\n",
        "\t\tshop_dict[key] += ingr['quantity'] * person\n",
        "\n",
        "for name, q in shop_dict.items():\n",
        "\tprint(f'{name[0]}: {q} {name[1]}')\n",
        "\n",
        "print('\\n')\n",
        "print('конец задания 6')"
      ],
      "metadata": {
        "colab": {
          "base_uri": "https://localhost:8080/"
        },
        "id": "68CC9o4cqYel",
        "outputId": "3ab0b720-daea-4208-c78a-494408f152e3"
      },
      "execution_count": null,
      "outputs": [
        {
          "output_type": "stream",
          "name": "stdout",
          "text": [
            "Введите количество порций: \n",
            "4\n",
            "\n",
            "\n",
            "сыр: 280 гр\n",
            "томаты: 8 шт\n",
            "огурцы: 80 гр\n",
            "маслины: 40 гр\n",
            "оливковое масло: 80 мл\n",
            "салат: 40 гр\n",
            "перец: 80 гр\n",
            "колбаса: 120 гр\n",
            "бекон: 120 гр\n",
            "оливки: 40 гр\n",
            "томаты: 80 гр\n",
            "тесто: 400 гр\n",
            "лимон: 4 шт\n",
            "вода: 800 мл\n",
            "сахар: 40 гр\n",
            "лайм: 80 гр\n",
            "\n",
            "\n",
            "конец задания 6\n"
          ]
        }
      ]
    }
  ]
}