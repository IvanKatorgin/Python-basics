{
  "nbformat": 4,
  "nbformat_minor": 0,
  "metadata": {
    "colab": {
      "provenance": [],
      "include_colab_link": true
    },
    "kernelspec": {
      "name": "python3",
      "display_name": "Python 3"
    },
    "language_info": {
      "name": "python"
    }
  },
  "cells": [
    {
      "cell_type": "markdown",
      "metadata": {
        "id": "view-in-github",
        "colab_type": "text"
      },
      "source": [
        "<a href=\"https://colab.research.google.com/github/IvanKatorgin/Python-basics/blob/main/%D0%9E%D1%81%D0%BD%D0%BE%D0%B2%D1%8B_Python_%D0%B4%D0%BE%D0%BC%D0%B0%D1%88%D0%BD%D0%B5%D0%B5_%D0%B7%D0%B0%D0%B4%D0%B0%D0%BD%D0%B8%D0%B5_5.ipynb\" target=\"_parent\"><img src=\"https://colab.research.google.com/assets/colab-badge.svg\" alt=\"Open In Colab\"/></a>"
      ]
    },
    {
      "cell_type": "markdown",
      "source": [
        "Курс \"Основы Python\". Домашнее задание 5. Каторгин И.П."
      ],
      "metadata": {
        "id": "jCVYdi2iaqYv"
      }
    },
    {
      "cell_type": "markdown",
      "source": [
        "Задание 1"
      ],
      "metadata": {
        "id": "GZaRiQ8HaVyy"
      }
    },
    {
      "cell_type": "code",
      "source": [
        "import json\n",
        "\n",
        "from itertools import islice\n",
        "\n",
        "dic = {}\n",
        "\n",
        "f = open('purchase_log.txt','r', encoding = 'utf-8')\n",
        "for line in f:\n",
        "  line = line.strip()\n",
        "  dict_ = json.loads(line)\n",
        "  key = dict_['user_id']\n",
        "  value = dict_['category']\n",
        "  if key != 'user_id':\n",
        "    dic.setdefault(key, value)\n",
        "\n",
        "print(dict(islice(dic.items(), 5)))\n"
      ],
      "metadata": {
        "colab": {
          "base_uri": "https://localhost:8080/"
        },
        "id": "YhtwMyJEU46p",
        "outputId": "afb19b58-b3a7-466c-83d6-e8d37cb5cef6"
      },
      "execution_count": null,
      "outputs": [
        {
          "output_type": "stream",
          "name": "stdout",
          "text": [
            "{'1840e0b9d4': 'Продукты', '4e4f90fcfb': 'Электроника', 'afea8d72fc': 'Электроника', '373a6055fe': 'Бытовая техника', '9b2ab046f3': 'Электроника'}\n"
          ]
        }
      ]
    },
    {
      "cell_type": "markdown",
      "source": [
        "Задание 2"
      ],
      "metadata": {
        "id": "OHX8qRaSaxZX"
      }
    },
    {
      "cell_type": "code",
      "source": [
        "f_ = open('visit_log.csv', 'r', encoding = 'utf-8')\n",
        "\n",
        "i = 0\n",
        "# построчное чтение файла\n",
        "for line in f_:\n",
        "  print(line)\n",
        "\n",
        "  i += 1\n",
        "  if i > 5:\n",
        "    break"
      ],
      "metadata": {
        "colab": {
          "base_uri": "https://localhost:8080/"
        },
        "id": "kBS1Yz8Ca0Or",
        "outputId": "6113a211-6bf3-41c9-e744-d10444f7bf66"
      },
      "execution_count": null,
      "outputs": [
        {
          "output_type": "stream",
          "name": "stdout",
          "text": [
            "user_id,source\n",
            "\n",
            "6450655ae8,other\n",
            "\n",
            "b4ea53e670,other\n",
            "\n",
            "0e37347152,other\n",
            "\n",
            "96064ae9e0,other\n",
            "\n",
            "e1bd168161,context\n",
            "\n"
          ]
        }
      ]
    },
    {
      "cell_type": "code",
      "source": [
        "with open('visit_log.csv', 'r', encoding = 'utf-8') as f_, open('funnel.csv', 'w') as w_f:\n",
        "  for row in f_:\n",
        "    line_list = row.strip().split(',')\n",
        "    if line_list[0] in dic.keys():\n",
        "      line_list.append(dic[line_list[0]])\n",
        "      add_line = ', '.join(line_list)\n",
        "      w_f.write(add_line + '\\n')\n",
        "    elif line_list[0] == 'user_id':\n",
        "      line_list.append('category')\n",
        "      add_line = ', '.join(line_list)\n",
        "    else:\n",
        "      add_line = ', '.join(line_list)"
      ],
      "metadata": {
        "id": "_bsaAyRXIDho"
      },
      "execution_count": null,
      "outputs": []
    },
    {
      "cell_type": "markdown",
      "source": [
        "Проверка заполнения файла funnel.csv"
      ],
      "metadata": {
        "id": "54r1o5c_y3LI"
      }
    },
    {
      "cell_type": "code",
      "source": [
        "nb = open('funnel.csv', 'r', encoding = 'utf-8')\n",
        "\n",
        "i = 0\n",
        "# построчное чтение файла\n",
        "for line in nb:\n",
        "  print(line)\n",
        "\n",
        "  i += 1\n",
        "  if i > 5:\n",
        "    break"
      ],
      "metadata": {
        "colab": {
          "base_uri": "https://localhost:8080/"
        },
        "id": "3oqNvLesxtfr",
        "outputId": "4ffe067d-5593-4566-da9c-1a7103eb010c"
      },
      "execution_count": null,
      "outputs": [
        {
          "output_type": "stream",
          "name": "stdout",
          "text": [
            "1840e0b9d4, other, Продукты\n",
            "\n",
            "4e4f90fcfb, context, Электроника\n",
            "\n",
            "afea8d72fc, other, Электроника\n",
            "\n",
            "2824221f38, email, Продукты\n",
            "\n",
            "373a6055fe, other, Бытовая техника\n",
            "\n",
            "9b2ab046f3, other, Электроника\n",
            "\n"
          ]
        }
      ]
    }
  ]
}