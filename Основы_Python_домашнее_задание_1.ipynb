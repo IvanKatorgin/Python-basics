{
  "nbformat": 4,
  "nbformat_minor": 0,
  "metadata": {
    "colab": {
      "provenance": [],
      "include_colab_link": true
    },
    "kernelspec": {
      "name": "python3",
      "display_name": "Python 3"
    },
    "language_info": {
      "name": "python"
    }
  },
  "cells": [
    {
      "cell_type": "markdown",
      "metadata": {
        "id": "view-in-github",
        "colab_type": "text"
      },
      "source": [
        "<a href=\"https://colab.research.google.com/github/IvanKatorgin/Python-basics/blob/main/%D0%9E%D1%81%D0%BD%D0%BE%D0%B2%D1%8B_Python_%D0%B4%D0%BE%D0%BC%D0%B0%D1%88%D0%BD%D0%B5%D0%B5_%D0%B7%D0%B0%D0%B4%D0%B0%D0%BD%D0%B8%D0%B5_1.ipynb\" target=\"_parent\"><img src=\"https://colab.research.google.com/assets/colab-badge.svg\" alt=\"Open In Colab\"/></a>"
      ]
    },
    {
      "cell_type": "code",
      "source": [
        "pip install --force-reinstall 'sqlalchemy<2.0.0'"
      ],
      "metadata": {
        "colab": {
          "base_uri": "https://localhost:8080/"
        },
        "id": "uOyjwp1qNZBc",
        "outputId": "01bd3b46-92c0-4fd4-9a2a-e67274fbe167"
      },
      "execution_count": null,
      "outputs": [
        {
          "output_type": "stream",
          "name": "stdout",
          "text": [
            "Collecting sqlalchemy<2.0.0\n",
            "  Using cached SQLAlchemy-1.4.52-cp310-cp310-manylinux_2_5_x86_64.manylinux1_x86_64.manylinux_2_17_x86_64.manylinux2014_x86_64.whl (1.6 MB)\n",
            "Collecting greenlet!=0.4.17 (from sqlalchemy<2.0.0)\n",
            "  Using cached greenlet-3.0.3-cp310-cp310-manylinux_2_24_x86_64.manylinux_2_28_x86_64.whl (616 kB)\n",
            "Installing collected packages: greenlet, sqlalchemy\n",
            "  Attempting uninstall: greenlet\n",
            "    Found existing installation: greenlet 3.0.3\n",
            "    Uninstalling greenlet-3.0.3:\n",
            "      Successfully uninstalled greenlet-3.0.3\n",
            "  Attempting uninstall: sqlalchemy\n",
            "    Found existing installation: SQLAlchemy 1.4.52\n",
            "    Uninstalling SQLAlchemy-1.4.52:\n",
            "      Successfully uninstalled SQLAlchemy-1.4.52\n",
            "\u001b[31mERROR: pip's dependency resolver does not currently take into account all the packages that are installed. This behaviour is the source of the following dependency conflicts.\n",
            "ipython-sql 0.5.0 requires sqlalchemy>=2.0, but you have sqlalchemy 1.4.52 which is incompatible.\u001b[0m\u001b[31m\n",
            "\u001b[0mSuccessfully installed greenlet-3.0.3 sqlalchemy-1.4.52\n"
          ]
        }
      ]
    },
    {
      "cell_type": "markdown",
      "source": [
        "Курс \"Основы Python\". Домашнее задание 1.\n",
        "Каторгин И.П."
      ],
      "metadata": {
        "id": "GEGTIyuOswpv"
      }
    },
    {
      "cell_type": "markdown",
      "source": [
        "Задание 1"
      ],
      "metadata": {
        "id": "fipg7bsusr6O"
      }
    },
    {
      "cell_type": "code",
      "source": [
        "phrase_1 = 'Насколько проще было бы писать программы, если бы не заказчики'\n",
        "phrase_2 = 'Насколько проще было бы писать программы, если бы не заказчики'\n",
        "\n",
        "if len(phrase_1) > len(phrase_2):\n",
        "  print('Фраза 1 длинее фразы 2')\n",
        "elif len(phrase_1) < len(phrase_2):\n",
        "  print('Фраза 2 длинее фразы 1')\n",
        "else:\n",
        "  print('Фразы равной длины')\n",
        "\n",
        "print('конец задания 1')"
      ],
      "metadata": {
        "colab": {
          "base_uri": "https://localhost:8080/"
        },
        "id": "YBMo7l45nf9x",
        "outputId": "f1526066-2e00-42ce-c415-723f62a17b71"
      },
      "execution_count": null,
      "outputs": [
        {
          "output_type": "stream",
          "name": "stdout",
          "text": [
            "Фразы равной длины\n",
            "конец задания 1\n"
          ]
        }
      ]
    },
    {
      "cell_type": "code",
      "source": [
        "phrase_1 = input('введите фразу 1: ')\n",
        "phrase_2 = input('введите фразу 2: ')\n",
        "\n",
        "if len(phrase_1) > len(phrase_2):\n",
        "  print('Фраза 1 длинее фразы 2')\n",
        "elif len(phrase_1) < len(phrase_2):\n",
        "  print('Фраза 2 длинее фразы 1')\n",
        "else:\n",
        "  print('Фразы равной длины')\n",
        "\n",
        "print('конец задания 1')"
      ],
      "metadata": {
        "colab": {
          "base_uri": "https://localhost:8080/"
        },
        "id": "T8WrnRvDu021",
        "outputId": "d1158bf2-572b-4dfe-a22f-0826cbf5d34a"
      },
      "execution_count": null,
      "outputs": [
        {
          "output_type": "stream",
          "name": "stdout",
          "text": [
            "введите фразу 1: Насколько проще было бы писать программы, если бы не заказчики\n",
            "введите фразу 2: Насколько проще было бы писать программы, если бы не заказчики\n",
            "Фразы равной длины\n",
            "конец задания 1\n"
          ]
        }
      ]
    },
    {
      "cell_type": "markdown",
      "source": [
        "Задание 2"
      ],
      "metadata": {
        "id": "5epyHE8OtBAS"
      }
    },
    {
      "cell_type": "code",
      "source": [
        "Year = 2023\n",
        "\n",
        "if Year%4 == 0:\n",
        "  print('Високосный год')\n",
        "else:\n",
        "  print('Обычный год')\n",
        "\n",
        "print('конец задания 2')"
      ],
      "metadata": {
        "colab": {
          "base_uri": "https://localhost:8080/"
        },
        "id": "fH7lOd03tE6-",
        "outputId": "0e66a814-31b6-4e44-d6f2-749845363509"
      },
      "execution_count": null,
      "outputs": [
        {
          "output_type": "stream",
          "name": "stdout",
          "text": [
            "Обычный год\n",
            "конец задания 2\n"
          ]
        }
      ]
    },
    {
      "cell_type": "code",
      "source": [
        "Year = int(input('введите год: '))\n",
        "if Year%4 == 0:\n",
        "  print('Високосный год')\n",
        "else:\n",
        "  print('Обычный год')\n",
        "\n",
        "print('конец задания 2')"
      ],
      "metadata": {
        "colab": {
          "base_uri": "https://localhost:8080/"
        },
        "id": "Qvn2Ic7AC5CS",
        "outputId": "4ecdd0ff-0760-4aee-ee60-8e07b51c5dce"
      },
      "execution_count": null,
      "outputs": [
        {
          "output_type": "stream",
          "name": "stdout",
          "text": [
            "введите год: 2024\n",
            "Високосный год\n",
            "конец задания 2\n"
          ]
        }
      ]
    },
    {
      "cell_type": "markdown",
      "source": [
        "Задание 3"
      ],
      "metadata": {
        "id": "XLMXN8zAuApm"
      }
    },
    {
      "cell_type": "code",
      "source": [
        "day = int(input('Введите день рождения: '))\n",
        "mounth = input('Введите месяц рождения словом в именительном падеже: ')\n",
        "\n",
        "if mounth.capitalize() == 'Март' and 21 <= day <= 31:\n",
        "  print('Ваш знак зодиака: Овен')\n",
        "elif mounth.capitalize() == 'Апрель' and 1 <= day <= 20:\n",
        "  print('Ваш знак зодиака: Овен')\n",
        "elif mounth.capitalize() == 'Апель' and 21 <= day <= 30:\n",
        "  print('Ваш знак зодиака: Телец')\n",
        "elif mounth.capitalize() == 'Май' and 1 <= day <= 21:\n",
        "  print('Ваш знак зодиака: Телец')\n",
        "elif mounth.capitalize() == 'Май' and 22 <= day <= 31:\n",
        "  print('Ваш знак зодиака: Близнецы')\n",
        "elif mounth.capitalize() == 'Июнь' and 1 <= day <= 21:\n",
        "  print('Ваш знак зодиака: Близнецы')\n",
        "elif mounth.capitalize() == 'Июнь' and 22 <= day <= 30:\n",
        "  print('Ваш знак зодиака: Рак')\n",
        "elif mounth.capitalize() == 'Июль' and 1 <= day <= 22:\n",
        "  print('Ваш знак зодиака: Рак')\n",
        "elif mounth.capitalize() == 'Июль' and 23 <= day <= 31:\n",
        "  print('Ваш знак зодиака: Лев')\n",
        "elif mounth.capitalize() == 'Август' and 1 <= day <= 21:\n",
        "  print('Ваш знак зодиака: Лев')\n",
        "elif mounth.capitalize() == 'Август' and 22 <= day <= 31:\n",
        "  print('Ваш знак зодиака: Дева')\n",
        "elif mounth.capitalize() == 'Сентябрь' and 1 <= day <= 23:\n",
        "  print('Ваш знак зодиака: Дева')\n",
        "elif mounth.capitalize() == 'Сентябрь' and 24 <= day <= 30:\n",
        "  print('Ваш знак зодиака: Весы')\n",
        "elif mounth.capitalize() == 'Октябрь' and 1 <= day <= 23:\n",
        "  print('Ваш знак зодиака: Весы')\n",
        "elif mounth.capitalize() == 'Октябрь' and 24 <= day <= 31:\n",
        "  print('Ваш знак зодиака: Скорпион')\n",
        "elif mounth.capitalize() == 'Ноябрь' and 1 <= day <= 22:\n",
        "  print('Ваш знак зодиака: Скорпион')\n",
        "elif mounth.capitalize() == 'Ноябрь' and 23 <= day <= 30:\n",
        "  print('Ваш знак зодиака: Стрелец')\n",
        "elif mounth.capitalize() == 'Декабрь' and 1 <= day <= 22:\n",
        "  print('Ваш знак зодиака: Стрелец')\n",
        "elif mounth.capitalize() == 'Декабрь' and 23 <= day <= 31:\n",
        "  print('Ваш знак зодиака: Козерог')\n",
        "elif mounth.capitalize() == 'Январь' and 1 <= day <= 20:\n",
        "  print('Ваш знак зодиака: Козерог')\n",
        "elif mounth.capitalize() == 'Январь' and 21 <= day <= 31:\n",
        "  print('Ваш знак зодиака: Водолей')\n",
        "elif mounth.capitalize() == 'Февраль' and 1 <= day <= 19:\n",
        "  print('Ваш знак зодиака: Водолей')\n",
        "elif mounth.capitalize() == 'Февраль' and 20 <= day <= 29:\n",
        "  print('Ваш знак зодиака: Рыбы')\n",
        "elif mounth.capitalize() == 'Март' and 1 <= day <= 20:\n",
        "  print('Ваш знак зодиака: Рыбы')\n",
        "else:\n",
        "  print('Некорректная дата')\n",
        "\n",
        "print('конец задания 3')"
      ],
      "metadata": {
        "colab": {
          "base_uri": "https://localhost:8080/"
        },
        "id": "l42jSMIVbawJ",
        "outputId": "257330fe-964e-4464-838c-5ea13bd9fd33"
      },
      "execution_count": null,
      "outputs": [
        {
          "output_type": "stream",
          "name": "stdout",
          "text": [
            "Введите день рождения: 19\n",
            "Введите месяц рождения словом в именительном падеже: март\n",
            "Ваш знак зодиака: Рыбы\n",
            "конец задания 3\n"
          ]
        }
      ]
    },
    {
      "cell_type": "markdown",
      "source": [
        "Задание 4"
      ],
      "metadata": {
        "id": "-AEIWVsfhWVT"
      }
    },
    {
      "cell_type": "code",
      "source": [
        "width = int(input('Ширина, см: '))\n",
        "lenght = int(input('Длина, см: '))\n",
        "height = int(input('Высота, см: '))\n",
        "\n",
        "if width <= 15 and lenght <= 15 and height <= 15:\n",
        "  print('Коробка №1')\n",
        "elif width >= 200 or lenght >= 200 or height >= 200:\n",
        "  print('Упаковка для лыж')\n",
        "elif 15 < width < 50 or 15 < lenght < 50 or 15 < height < 50:\n",
        "  print('Коробка №2')\n",
        "else:\n",
        "  print('Коробка №3')\n",
        "\n",
        "print('конец задания 4')"
      ],
      "metadata": {
        "colab": {
          "base_uri": "https://localhost:8080/"
        },
        "id": "YtCNts9XhYEw",
        "outputId": "3ba4cda6-03be-4bde-bff1-533469ee60e2"
      },
      "execution_count": null,
      "outputs": [
        {
          "output_type": "stream",
          "name": "stdout",
          "text": [
            "Ширина, см: 200\n",
            "Длина, см: 1\n",
            "Высота, см: 23\n",
            "Упаковка для лыж\n",
            "конец задания 4\n"
          ]
        }
      ]
    },
    {
      "cell_type": "markdown",
      "source": [
        "Задание 5"
      ],
      "metadata": {
        "id": "9azRgokHtlWC"
      }
    },
    {
      "cell_type": "code",
      "source": [
        "number = input('Введите номер билета (шесть чисел): ')\n",
        "l = len(number)\n",
        "num1 = sum(map(int, str(number[:3])))\n",
        "num2 = sum(map(int, str(number[3:])))\n",
        "if l != 6:\n",
        "  print('Введено не шесть чисел!')\n",
        "  print('Введите корректный номер билета (шесть чисел)')\n",
        "elif num1 == num2:\n",
        "  print('Результат: ')\n",
        "  print('билет № ', number)\n",
        "  print('Счастливый билет')\n",
        "  print('Сумма первых трех чисел = ', num1)\n",
        "  print('Сумма вторых трех чисел = ', num2)\n",
        "else:\n",
        "  print('Результат: ')\n",
        "  print('билет № ', number)\n",
        "  print('Номер несчастливый')\n",
        "  print('Сумма первых трех чисел = ', num1)\n",
        "  print('Сумма вторых трех чисел = ', num2)\n",
        "\n",
        "print('конец задания 5')"
      ],
      "metadata": {
        "colab": {
          "base_uri": "https://localhost:8080/"
        },
        "id": "TdxV1U-4tm93",
        "outputId": "8bb86e5c-0577-4ad2-fcea-d794344de06e"
      },
      "execution_count": null,
      "outputs": [
        {
          "output_type": "stream",
          "name": "stdout",
          "text": [
            "Введите номер билета (шесть чисел): 111111\n",
            "Результат: \n",
            "билет №  111111\n",
            "Счастливый билет\n",
            "Сумма первых трех чисел =  3\n",
            "Сумма вторых трех чисел =  3\n",
            "конец задания 5\n"
          ]
        }
      ]
    },
    {
      "cell_type": "markdown",
      "source": [
        "Задание 6"
      ],
      "metadata": {
        "id": "TfKS5I6W2suA"
      }
    },
    {
      "cell_type": "code",
      "source": [
        "import math # для использования числа пи (math.pi)\n",
        "\n",
        "f = str(input('Введите тип фигуры (круг, треугольник или прямоугольник): ')).capitalize()\n",
        "\n",
        "if f == 'Круг':\n",
        "  r = int(input('Введите радиус круга: '))\n",
        "  print('Результат: ')\n",
        "  print('Площадь круга: ', round(math.pi*(r**2), 2))\n",
        "elif f == 'Треугольник':\n",
        "  a = int(input('Введите длину стороны А: '))\n",
        "  b = int(input('Введите длину стороны B: '))\n",
        "  c = int(input('Введите длину стороны C: '))\n",
        "  print('Результат: ')\n",
        "  print('Площадь треугольника: ', round(((((a+b+c)/2)*((a+b+c)/2-a)*((a+b+c)/2-b)*((a+b+c)/2-c)))**0.5, 2))\n",
        "elif f == 'Прямоугольник':\n",
        "  d = int(input('Введите длину стороны А: '))\n",
        "  e = int(input('Введите длину стороны B: '))\n",
        "  print('Результат: ')\n",
        "  print('Площадь прямоугольника: ', d*e)\n",
        "else:\n",
        "  print('Некорректная фигура')\n",
        "\n",
        "print('конец задания 6')"
      ],
      "metadata": {
        "colab": {
          "base_uri": "https://localhost:8080/"
        },
        "id": "9g8ueX7p2utb",
        "outputId": "86b7ae36-e4aa-469b-d396-f992b22ae7b1"
      },
      "execution_count": null,
      "outputs": [
        {
          "output_type": "stream",
          "name": "stdout",
          "text": [
            "Введите тип фигуры (круг, треугольник или прямоугольник): треугольник\n",
            "Введите длину стороны А: 12\n",
            "Введите длину стороны B: 12\n",
            "Введите длину стороны C: 12\n",
            "Результат: \n",
            "Площадь треугольника:  62.35\n",
            "конец задания 6\n"
          ]
        }
      ]
    }
  ]
}