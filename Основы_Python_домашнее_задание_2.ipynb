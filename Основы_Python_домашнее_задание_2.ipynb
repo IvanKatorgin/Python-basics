{
  "nbformat": 4,
  "nbformat_minor": 0,
  "metadata": {
    "colab": {
      "provenance": [],
      "include_colab_link": true
    },
    "kernelspec": {
      "name": "python3",
      "display_name": "Python 3"
    },
    "language_info": {
      "name": "python"
    }
  },
  "cells": [
    {
      "cell_type": "markdown",
      "metadata": {
        "id": "view-in-github",
        "colab_type": "text"
      },
      "source": [
        "<a href=\"https://colab.research.google.com/github/IvanKatorgin/Python-basics/blob/main/%D0%9E%D1%81%D0%BD%D0%BE%D0%B2%D1%8B_Python_%D0%B4%D0%BE%D0%BC%D0%B0%D1%88%D0%BD%D0%B5%D0%B5_%D0%B7%D0%B0%D0%B4%D0%B0%D0%BD%D0%B8%D0%B5_2.ipynb\" target=\"_parent\"><img src=\"https://colab.research.google.com/assets/colab-badge.svg\" alt=\"Open In Colab\"/></a>"
      ]
    },
    {
      "cell_type": "markdown",
      "source": [
        "Курс \"Основы Python\". Домашнее задание 2. Каторгин И.П."
      ],
      "metadata": {
        "id": "kf-_q4-GU8OZ"
      }
    },
    {
      "cell_type": "markdown",
      "source": [
        "Задание 1"
      ],
      "metadata": {
        "id": "rvs0bRnuU3kG"
      }
    },
    {
      "cell_type": "code",
      "source": [
        "word = str(input('Введите слово: '))\n",
        "if len(word) %2 == 0:\n",
        "  x = (len(word))//2\n",
        "  print('слово четное')\n",
        "  print('число букв в слове:', len(word))\n",
        "  print('две средние буквы: ', (word[x-1:x+1]), '\\n')\n",
        "else:\n",
        "  y = (len(word))//2\n",
        "  print('слово нечетное')\n",
        "  print('число букв в слове:', len(word))\n",
        "  print('средняя буква: ', (word[y]), '\\n')\n",
        "\n",
        "print('конец задания 1')"
      ],
      "metadata": {
        "colab": {
          "base_uri": "https://localhost:8080/"
        },
        "id": "TuHu-LGsgnEp",
        "outputId": "f5c23b45-d4a6-4aa7-d21c-cff07f4c7d7c"
      },
      "execution_count": null,
      "outputs": [
        {
          "output_type": "stream",
          "name": "stdout",
          "text": [
            "Введите слово: школа\n",
            "слово нечетное\n",
            "число букв в слове: 5\n",
            "средняя буква:  о \n",
            "\n",
            "конец задания 1\n"
          ]
        }
      ]
    },
    {
      "cell_type": "markdown",
      "source": [
        "Задание 2"
      ],
      "metadata": {
        "id": "sZZnTOU9q71f"
      }
    },
    {
      "cell_type": "code",
      "source": [
        "number = int(input('Введи любую цифру: '))\n",
        "x = [] # объявляем список для того, чтобы туда складывать введенные номера и там их потом суммировать\n",
        "while number != 0:\n",
        "    x.append(number) # добавляем введенные номера в список, пока не выполнится условие number != 0\n",
        "    number = int(input('Введи любую цифру: '))\n",
        "\n",
        "print('результат: ', sum(x), '\\n')\n",
        "\n",
        "print('конец задания 2')"
      ],
      "metadata": {
        "colab": {
          "base_uri": "https://localhost:8080/"
        },
        "id": "kwcElIfaCq-Y",
        "outputId": "422a457c-e16c-4aff-f6a5-e7204539b5e3"
      },
      "execution_count": null,
      "outputs": [
        {
          "output_type": "stream",
          "name": "stdout",
          "text": [
            "Введи любую цифру: 8\n",
            "Введи любую цифру: 5\n",
            "Введи любую цифру: -3\n",
            "Введи любую цифру: 0\n",
            "результат:  10 \n",
            "\n",
            "конец задания 2\n"
          ]
        }
      ]
    },
    {
      "cell_type": "markdown",
      "source": [
        "Задание 3"
      ],
      "metadata": {
        "id": "WtOOfpuNHDeL"
      }
    },
    {
      "cell_type": "code",
      "source": [
        "boys = ['Peter', 'Alex', 'John', 'Arthur', 'Richard']\n",
        "girls = ['Kate', 'Liza', 'Kira', 'Emma', 'Trisha']\n",
        "\n",
        "boys = sorted(boys)\n",
        "girls = sorted(girls)\n",
        "\n",
        "if len(boys) == len(girls):\n",
        "  print('Идеальные пары:')\n",
        "  for boys, girls in zip(boys, girls):\n",
        "      print(f'{boys}', 'и', (girls))\n",
        "else:\n",
        "  print('Внимание, кто-то может остаться без пары!', '\\n')\n",
        "\n",
        "print('конец задания 3')"
      ],
      "metadata": {
        "colab": {
          "base_uri": "https://localhost:8080/"
        },
        "id": "mkuWgbX_YWkA",
        "outputId": "46d30832-9bfd-4ffc-8b43-69060658078d"
      },
      "execution_count": null,
      "outputs": [
        {
          "output_type": "stream",
          "name": "stdout",
          "text": [
            "Идеальные пары:\n",
            "Alex и Emma\n",
            "Arthur и Kate\n",
            "John и Kira\n",
            "Peter и Liza\n",
            "Richard и Trisha\n",
            "конец задания 3\n"
          ]
        }
      ]
    },
    {
      "cell_type": "code",
      "source": [
        "boys = ['Peter', 'Alex', 'John', 'Arthur', 'Richard', 'Michael']\n",
        "girls = ['Kate', 'Liza', 'Kira', 'Emma', 'Trisha']\n",
        "\n",
        "boys = sorted(boys)\n",
        "girls = sorted(girls)\n",
        "\n",
        "if len(boys) == len(girls):\n",
        "  print('Идеальные пары:')\n",
        "  for boys, girls in zip(boys, girls):\n",
        "      print(f'{boys}', 'и', (girls))\n",
        "else:\n",
        "  print('Внимание, кто-то может остаться без пары!', '\\n')\n",
        "\n",
        "print('конец задания 3')"
      ],
      "metadata": {
        "colab": {
          "base_uri": "https://localhost:8080/"
        },
        "id": "EcjLA0x7ZD4H",
        "outputId": "eb24113c-2940-4aea-f774-2f6a75b76a38"
      },
      "execution_count": null,
      "outputs": [
        {
          "output_type": "stream",
          "name": "stdout",
          "text": [
            "Внимание, кто-то может остаться без пары! \n",
            "\n",
            "конец задания 3\n"
          ]
        }
      ]
    },
    {
      "cell_type": "markdown",
      "source": [
        "Задание 4"
      ],
      "metadata": {
        "id": "eQt5pQK0ZdSB"
      }
    },
    {
      "cell_type": "code",
      "source": [
        "countries_temperature = [\n",
        "    ['Таиланд', [75.2, 77, 78.8, 73.4, 68, 75.2, 77]],\n",
        "    ['Германия', [57.2, 55.4, 59, 59, 53.6]],\n",
        "    ['Россия', [35.6, 37.4, 39.2, 41, 42.8, 39.2, 35.6]],\n",
        "    ['Польша', [50, 50, 53.6, 57.2, 55.4, 55.4]]\n",
        "]\n",
        "\n",
        "for country in countries_temperature:\n",
        "    print(country[0], '-', round((sum(country[1]) / len(country[1]) - 32)*5/9, 1), 'C')\n",
        "\n",
        "print('конец задания 4')"
      ],
      "metadata": {
        "colab": {
          "base_uri": "https://localhost:8080/"
        },
        "id": "hME3EX9SIRPi",
        "outputId": "930d0dca-4394-4e27-e172-d4c03e5982bb"
      },
      "execution_count": null,
      "outputs": [
        {
          "output_type": "stream",
          "name": "stdout",
          "text": [
            "Таиланд - 23.9 C\n",
            "Германия - 13.8 C\n",
            "Россия - 3.7 C\n",
            "Польша - 12.0 C\n",
            "конец задания 4\n"
          ]
        }
      ]
    },
    {
      "cell_type": "markdown",
      "source": [
        "Задание 5"
      ],
      "metadata": {
        "id": "bi2qPbK5LyOs"
      }
    },
    {
      "cell_type": "code",
      "source": [
        "car_ids = ['А222ВС96', 'АБ22ВВ193']\n",
        "\n",
        "import re\n",
        "\n",
        "pattern = '^[УКЕНХВАРОСМТ]{1}\\d{3}[УКЕНХВАРОСМТ]{2}\\d{2,3}$' # задаем паттерн, по которому считываем автомобильный номер\n",
        "for number in car_ids:\n",
        "    if re.search(pattern, number): # считываем номер по паттерну и если совпадает тогда:\n",
        "      region = number[-2:] if len(number) == 8 else number[-3:] # определяем регион\n",
        "      print(f'Номер: {number[0:6]} валиден. Регион: {region}') # и выводим на печать номер и отдельно код региона\n",
        "    else:\n",
        "         print(f'Номер: {number} не валиден.') # если условие по паттерну не выполняется\n",
        "\n",
        "print('конец задания 5')"
      ],
      "metadata": {
        "colab": {
          "base_uri": "https://localhost:8080/"
        },
        "id": "X4WAbxmzLzs-",
        "outputId": "3cb4b4a9-599c-467e-cddc-3ed38433507a"
      },
      "execution_count": null,
      "outputs": [
        {
          "output_type": "stream",
          "name": "stdout",
          "text": [
            "Номер: А222ВС валиден. Регион: 96\n",
            "Номер: АБ22ВВ193 не валиден.\n",
            "конец задания 5\n"
          ]
        }
      ]
    },
    {
      "cell_type": "markdown",
      "source": [
        "Задание 6"
      ],
      "metadata": {
        "id": "HJE5xuMgNAUo"
      }
    },
    {
      "cell_type": "code",
      "source": [
        "stream = [\n",
        "    'user4,2021-01-01;3',\n",
        "    'user3,2022-01-07;4',\n",
        "    'user2,2022-03-29;1',\n",
        "    'user1,2020-04-04;13',\n",
        "    'user2,2022-01-05;7',\n",
        "    'user1,2021-06-14;4',\n",
        "    'user3,2022-07-02;10',\n",
        "    'user4,2021-03-21;19',\n",
        "    'user4,2022-03-22;4',\n",
        "    'user4,2022-04-22;8',\n",
        "    'user4,2021-05-03;9',\n",
        "    'user4,2022-05-11;11'\n",
        "    ]\n",
        "\n",
        "sum_views = sum([int(re.split('[,;]', el)[2]) for el in stream]) # переводим к типу int (целое число), достаем количество просмотров и суммируем их\n",
        "count_users = len(set([re.split('[,;]', el)[0] for el in stream])) # переводим к типу set (целое число) и определяем через set количество уникальных пользователей\n",
        "print(f'Среднее количество просмотров на уникального пользователя: {round(sum_views / count_users, 2)}', '\\n')\n",
        "\n",
        "print('конец задания 6')"
      ],
      "metadata": {
        "colab": {
          "base_uri": "https://localhost:8080/"
        },
        "id": "YNfPhtTccnDI",
        "outputId": "e6402f58-f484-4eac-a438-ecb1436a7a1d"
      },
      "execution_count": null,
      "outputs": [
        {
          "output_type": "stream",
          "name": "stdout",
          "text": [
            "Среднее количество просмотров на уникального пользователя: 23.25 \n",
            "\n",
            "конец задания 6\n"
          ]
        }
      ]
    }
  ]
}